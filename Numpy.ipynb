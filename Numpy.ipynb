{
 "cells": [
  {
   "cell_type": "markdown",
   "id": "09b99f47-2139-4bcb-817b-5146843d9bae",
   "metadata": {},
   "source": [
    "# NumPy\n",
    "\n",
    "Project giving overview of NumPy, especially the numpy.random package\n",
    "\n",
    "Author: Veronica Curry\n",
    "\n",
    "Student ID: G00074924\n",
    "\n",
    "****\n",
    "\n",
    "\n",
    "This project includes the following:\n",
    "\n",
    "> Overall Purpose of numpy.random\n",
    "\n",
    "> Explaination of 'Simple Random Data' & 'Permutations'\n",
    "\n",
    "> Use and Purpose of at least 5 'Distributions' functions\n",
    "\n",
    "> The use of seeds in generating pseudorandom numbers\n",
    "\n",
    "\n",
    "****\n"
   ]
  },
  {
   "cell_type": "markdown",
   "id": "0a0d0765",
   "metadata": {},
   "source": [
    "### NumPy\n",
    "\n",
    "****"
   ]
  },
  {
   "cell_type": "markdown",
   "id": "cf51c088",
   "metadata": {},
   "source": [
    "<div class=\"alert alert-block alert-info\">\n",
    "<b>Code:</b> \n",
    "    \n",
    "    import numpy as np\n",
    "    \n",
    "</div>"
   ]
  },
  {
   "cell_type": "markdown",
   "id": "c433c1d8",
   "metadata": {},
   "source": [
    "NumPy is, at its most basic, numerical python.\n",
    "\n",
    "It is a library that expands on the numerical capabilities of python and also acts as a basis for further numerical packages such as pandas or matplotlib [1]\n",
    "\n",
    "NumPy's strength lies in it's abiliity to provide a step up from Python's lists, using arrays NumPy allows for easier, faster and more efficent manipulation of data. [2]\n",
    "\n",
    "Arrays can be multi-dimensional or matrices. For a full overview of the many way in which arrays can be created and written please review this [page](https://medium.com/fintechexplained/why-should-we-use-numpy-c14a4fb03ee9) .[3]\n",
    "\n",
    "As an extension of Python, NumPy is installed as part of Anaconda, and can be imported simply using an alias. [4] [5]\n"
   ]
  },
  {
   "cell_type": "code",
   "execution_count": 1,
   "id": "6b5ea312",
   "metadata": {},
   "outputs": [],
   "source": [
    "import numpy as np     # import the numpy package - this is the standard import abbreviation"
   ]
  },
  {
   "cell_type": "markdown",
   "id": "72f93506",
   "metadata": {},
   "source": [
    "This section of code will just provide a simple outline of the difference between lists and arrays. \n",
    "\n",
    "In the first sets of code you will clearly see the difference between simply adding two lists verses adding two arrays.\n",
    "\n",
    "Lists will simply add the contents of both lists to a new list, where arrarys allow you to complete mathimatical processes on their contents. \n",
    "\n",
    "It should be noted that by using the append function we can also add the contents of an array to the contents of another array. Numpy offers you both options depending on your requirements. [6]"
   ]
  },
  {
   "cell_type": "code",
   "execution_count": 2,
   "id": "7201bfba",
   "metadata": {},
   "outputs": [
    {
     "data": {
      "text/plain": [
       "[1, 2, 3, 3, 4, 5]"
      ]
     },
     "execution_count": 2,
     "metadata": {},
     "output_type": "execute_result"
    }
   ],
   "source": [
    "# Lists\n",
    "\n",
    "list1 = [1,2,3]\n",
    "list2 = [3,4,5]\n",
    "\n",
    "list1 + list2"
   ]
  },
  {
   "cell_type": "code",
   "execution_count": 3,
   "id": "5c8e1bbd",
   "metadata": {},
   "outputs": [
    {
     "data": {
      "text/plain": [
       "array([4, 6, 8])"
      ]
     },
     "execution_count": 3,
     "metadata": {},
     "output_type": "execute_result"
    }
   ],
   "source": [
    "# arrays\n",
    "\n",
    "array1 = np.array([1,2,3])\n",
    "array2 = np.array([3,4,5])\n",
    "\n",
    "array1 + array2"
   ]
  },
  {
   "cell_type": "markdown",
   "id": "75245d70",
   "metadata": {},
   "source": [
    "The differences and power of Numpy becomes more apparent when you multiply lists [7]\n",
    "\n",
    "The code required to complete this action is much cleaner and simplier when using arrays. [8]"
   ]
  },
  {
   "cell_type": "code",
   "execution_count": 4,
   "id": "4c0dcfed",
   "metadata": {},
   "outputs": [
    {
     "name": "stdout",
     "output_type": "stream",
     "text": [
      "List1 multiplied by list2 is:[3, 8, 15]\n"
     ]
    }
   ],
   "source": [
    "# Lists [8] \n",
    "\n",
    "list1 = [1,2,3]\n",
    "list2 = [3,4,5]\n",
    "\n",
    "listbylist = []\n",
    "for i in range(0, len(list1)):\n",
    "    listbylist.append(list1[i] * list2[i])\n",
    "\n",
    "print(\"List1 multiplied by list2 is:\" + str(listbylist))\n"
   ]
  },
  {
   "cell_type": "code",
   "execution_count": 5,
   "id": "fc271948",
   "metadata": {},
   "outputs": [
    {
     "data": {
      "text/plain": [
       "array([ 3,  8, 15])"
      ]
     },
     "execution_count": 5,
     "metadata": {},
     "output_type": "execute_result"
    }
   ],
   "source": [
    "# arrays\n",
    "\n",
    "array1 = np.array([1,2,3])\n",
    "array2 = np.array([3,4,5])\n",
    "\n",
    "array1 * array2"
   ]
  },
  {
   "cell_type": "markdown",
   "id": "af5294fd",
   "metadata": {},
   "source": [
    "These simple examples of code show the power of NumPy and the importance of the use of Arrays. \n",
    "\n",
    "From this viewpoint we can see how NumPy further builds to allow us greater capacity to generate numbers and use those numbers quickly and efficiently in programming, testing and Machine Learning."
   ]
  },
  {
   "cell_type": "markdown",
   "id": "c63a4625",
   "metadata": {},
   "source": [
    "*****\n",
    "\n",
    "### NumPy Random\n",
    "\n",
    "****"
   ]
  },
  {
   "cell_type": "markdown",
   "id": "abd9367f",
   "metadata": {},
   "source": [
    "<div class=\"alert alert-block alert-info\">\n",
    "<b>Code:</b> \n",
    "   \n",
    "    rng = np.random.default_rng()\n",
    "    \n",
    "</div>"
   ]
  },
  {
   "cell_type": "markdown",
   "id": "13e19eef",
   "metadata": {},
   "source": [
    "NumPy provides a built-in function for random number generation – numpy.random [1]\n",
    "\n",
    "This allows for the creation of pseudorandom data, in the forms of arrays, which can then be used in for mathematical problems, program testing, data Analysis etc. [2]\n",
    "\n",
    "The provision of random data by NumPy allows us to learn programming and then importantly to test our programs with random, but also if required, reproducible data, prior to any real world application."
   ]
  },
  {
   "cell_type": "markdown",
   "id": "4a55d8ec",
   "metadata": {},
   "source": [
    "-----\n",
    "\n",
    "<dl>\n",
    "<dt>As outlined, in W3Schools it is important to remember:</dt>\n",
    "\n",
    "<dd>“Random number does NOT mean a different number every time. Random means something that can not be predicted logically.\" </dd>[3]\n",
    "    \n",
    "-----"
   ]
  },
  {
   "cell_type": "markdown",
   "id": "b4a0e5f3",
   "metadata": {},
   "source": [
    "NumPy.random provides pseudorandom numbers for us to use – this means that the numbers are not totally random, infact NumPy.random gives us the ability to choose the kind of random numbers we need.\n",
    "\n",
    "Pseudorandom data is data that is produced by Python, using an algorythim and by our imputs. It is not truly random and should not be treated as such. \n",
    "\n",
    "Numpy.random through the use of simple random data, permutations, and also number distributions allows us to amend and tailor the random data we need for our given purpose.[4]\n",
    "\n",
    "Further we can actually choose the starting place for the random numbers we generate and reproduce the numbers through the use of seeds. [5] This allows for reproducible results for testing. "
   ]
  },
  {
   "cell_type": "code",
   "execution_count": 6,
   "id": "7f54bff6",
   "metadata": {},
   "outputs": [],
   "source": [
    "rng = np.random.default_rng() # import the numpy package - this is the standard import abbreviation"
   ]
  },
  {
   "cell_type": "markdown",
   "id": "07b4687e",
   "metadata": {},
   "source": [
    "~*~*~*~* more needed here\n",
    "\n",
    "need to provide more explainationon the use of the above and it change in the newer docs\n",
    "what does it mean?\n",
    "\n",
    "No more seeds/\n",
    "\n",
    "https://www.youtube.com/watch?v=ryvY3RJucag\n",
    "\n"
   ]
  },
  {
   "cell_type": "markdown",
   "id": "d00746bd",
   "metadata": {},
   "source": [
    "----\n",
    "\n",
    "### Simple Random Data\n",
    "\n",
    "----"
   ]
  },
  {
   "cell_type": "markdown",
   "id": "7314e348",
   "metadata": {},
   "source": [
    "When processing data we often want to give NumPy parameters as to what type of data we need, the permutations of this data and even as a further step the distibution of this data.\n",
    "\n",
    "The first functions we can pass through Numpy.random are the following simple random data functions [1][2]:\n",
    "\n",
    "- integers\n",
    "- random \n",
    "- choice\n",
    "- bytes\n",
    "    \n",
    "   \n",
    "~*~*~*~* more needed here\n"
   ]
  },
  {
   "cell_type": "markdown",
   "id": "1ca9d6d4-034d-445b-98c9-bfaf08b5b916",
   "metadata": {},
   "source": [
    "****\n",
    "#### integers\n",
    "                             \n",
    "This function will output a list of random integers.\n",
    "                             \n",
    "                             rng.integers() \n",
    "\n",
    "This on its own will not work - for this function you are required to set parameters detailing the beginning and end numbers, the amount of numbers, shape of array, or boolean values. [2]"
   ]
  },
  {
   "cell_type": "code",
   "execution_count": 7,
   "id": "ea23622c-a514-4bfb-a911-d833fb0a3f34",
   "metadata": {},
   "outputs": [
    {
     "data": {
      "text/plain": [
       "array([0, 0], dtype=int64)"
      ]
     },
     "execution_count": 7,
     "metadata": {},
     "output_type": "execute_result"
    }
   ],
   "source": [
    "rng.integers(6, size=(2))       # here we set a highest value and the size of the output\n",
    "\n",
    "# output will give number up but not including 6 ( 0,1,2,3,4,5)\n",
    "# output will give two of these numbers which are randomly generated\n",
    "# output will give the data type - the standard here is int64 [3]"
   ]
  },
  {
   "cell_type": "code",
   "execution_count": 8,
   "id": "99b8f4e6",
   "metadata": {},
   "outputs": [
    {
     "data": {
      "text/plain": [
       "array([2, 4], dtype=int64)"
      ]
     },
     "execution_count": 8,
     "metadata": {},
     "output_type": "execute_result"
    }
   ],
   "source": [
    "rng.integers(1,6, size=(2))    # here we have given a min - max output values and the size of the output\n",
    "\n",
    "# output will be two integers between 1-6\n",
    "# output will also include data type [4]"
   ]
  },
  {
   "cell_type": "code",
   "execution_count": 9,
   "id": "0372f757-1704-4eb5-bac4-edba16fa6159",
   "metadata": {},
   "outputs": [
    {
     "data": {
      "text/plain": [
       "array([[2, 4, 5, 5],\n",
       "       [5, 3, 3, 1]], dtype=int64)"
      ]
     },
     "execution_count": 9,
     "metadata": {},
     "output_type": "execute_result"
    }
   ],
   "source": [
    "rng.integers(1,6, size=(2,4))  # here by changing the size parameters\n",
    "\n",
    "# output will be an array with two rows"
   ]
  },
  {
   "cell_type": "code",
   "execution_count": 10,
   "id": "887d856c",
   "metadata": {},
   "outputs": [
    {
     "data": {
      "text/plain": [
       "array([[[3, 2],\n",
       "        [3, 4],\n",
       "        [2, 1],\n",
       "        [1, 3]],\n",
       "\n",
       "       [[5, 5],\n",
       "        [5, 4],\n",
       "        [1, 5],\n",
       "        [5, 4]]], dtype=int64)"
      ]
     },
     "execution_count": 10,
     "metadata": {},
     "output_type": "execute_result"
    }
   ],
   "source": [
    "rng.integers(1,6, size=(2,4,2))  # here we have added yet more complexity to the array outputs\n",
    "\n",
    "# outputs are now two sets of data with in an array, with each holding 2 * 4 rows of random numbers"
   ]
  },
  {
   "cell_type": "code",
   "execution_count": 11,
   "id": "4fd917dc",
   "metadata": {},
   "outputs": [
    {
     "data": {
      "text/plain": [
       "array([1, 0])"
      ]
     },
     "execution_count": 11,
     "metadata": {},
     "output_type": "execute_result"
    }
   ],
   "source": [
    "rng.integers(6, size=(2), dtype=np.int32)   # here we changed the output to a 32-bit integer [5]"
   ]
  },
  {
   "cell_type": "markdown",
   "id": "d06156c1",
   "metadata": {},
   "source": [
    "#### Matplotlib.pyplot\n",
    "\n",
    "Using Matplotlib we can plot the results of rng.integers - this will give you a better understanding of the randomness of the data\n",
    "\n",
    "The number of plot points can be changed to give an overview of how the data is outputted over time - how random the data set it and how many of each number points is displayed [6]"
   ]
  },
  {
   "cell_type": "code",
   "execution_count": 12,
   "id": "6695c8d5",
   "metadata": {},
   "outputs": [
    {
     "data": {
      "text/plain": [
       "[<matplotlib.lines.Line2D at 0x22f77b06400>]"
      ]
     },
     "execution_count": 12,
     "metadata": {},
     "output_type": "execute_result"
    },
    {
     "data": {
      "image/png": "[encoded data removed]",
      "text/plain": [
       "<Figure size 432x288 with 1 Axes>"
      ]
     },
     "metadata": {
      "needs_background": "light"
     },
     "output_type": "display_data"
    }
   ],
   "source": [
    "import matplotlib.pyplot as plt\n",
    "\n",
    "x = rng.integers(6, size=(10))\n",
    "\n",
    "plt.plot(x)"
   ]
  },
  {
   "cell_type": "code",
   "execution_count": 13,
   "id": "0d3635ce",
   "metadata": {},
   "outputs": [
    {
     "data": {
      "text/plain": [
       "[<matplotlib.lines.Line2D at 0x22f78271ac0>]"
      ]
     },
     "execution_count": 13,
     "metadata": {},
     "output_type": "execute_result"
    },
    {
     "data": {
      "image/png": "[encoded data removed]",
      "text/plain": [
       "<Figure size 432x288 with 1 Axes>"
      ]
     },
     "metadata": {
      "needs_background": "light"
     },
     "output_type": "display_data"
    }
   ],
   "source": [
    "import matplotlib.pyplot as plt\n",
    "\n",
    "x = rng.integers(6, size=(100))\n",
    "\n",
    "plt.plot(x)"
   ]
  },
  {
   "cell_type": "markdown",
   "id": "58c33b76",
   "metadata": {},
   "source": [
    "****\n",
    "#### .random\n",
    "\n",
    "This function will return floats, and operates much the same way as .integer\n",
    "\n",
    "                                            rng.random() \n",
    "\n",
    "This function will return a result without setting any parameters. [7] [8] [9]   "
   ]
  },
  {
   "cell_type": "code",
   "execution_count": 14,
   "id": "fd18c22d-3425-4b73-b3ed-084800b3ab04",
   "metadata": {},
   "outputs": [
    {
     "data": {
      "text/plain": [
       "0.901592079548665"
      ]
     },
     "execution_count": 14,
     "metadata": {},
     "output_type": "execute_result"
    }
   ],
   "source": [
    "rng.random()   # Unlike .integer we can pass no value through this function and get a result\n",
    "\n",
    "# output will be a random float"
   ]
  },
  {
   "cell_type": "code",
   "execution_count": 15,
   "id": "55400804",
   "metadata": {},
   "outputs": [
    {
     "data": {
      "text/plain": [
       "array([0.47168716, 0.076711  , 0.87768206, 0.97030478, 0.84851513,\n",
       "       0.12703628, 0.85175652, 0.90870241, 0.97047761, 0.11243672,\n",
       "       0.50267777, 0.66805594, 0.79604626, 0.9472203 , 0.35684361,\n",
       "       0.68322456, 0.0945953 , 0.12976713, 0.72158879, 0.08678877,\n",
       "       0.34015957, 0.01735923, 0.77239788, 0.25366737, 0.38257781,\n",
       "       0.87082395, 0.97983746, 0.16952366, 0.61969377, 0.111757  ,\n",
       "       0.85842302, 0.68725852, 0.18832529, 0.24287759, 0.91365731,\n",
       "       0.56672866, 0.89050653, 0.95240469, 0.43370551, 0.85442024,\n",
       "       0.37986809, 0.2606857 , 0.29076572, 0.08961136, 0.94242968,\n",
       "       0.93978522, 0.44891088, 0.92428614, 0.38086421, 0.02231158,\n",
       "       0.19751282, 0.80023556, 0.33542064, 0.42147854, 0.490087  ,\n",
       "       0.10730085, 0.02339744, 0.83829501, 0.48836366, 0.95606044,\n",
       "       0.13081763, 0.5777195 , 0.47910573, 0.86249775, 0.17004913,\n",
       "       0.23742889, 0.260045  , 0.57148951, 0.35884645, 0.04607798,\n",
       "       0.5986697 , 0.91527265, 0.57169034, 0.26839103, 0.74096497,\n",
       "       0.92056783, 0.67717191, 0.41939852, 0.77096429, 0.96835252,\n",
       "       0.54681762, 0.01103611, 0.48916266, 0.33503357, 0.75956569,\n",
       "       0.07794504, 0.19236182, 0.24332972, 0.64658481, 0.77052377,\n",
       "       0.19328714, 0.84437444, 0.70898051, 0.77316063, 0.95700698,\n",
       "       0.17745941, 0.73885233, 0.50622959, 0.62355901, 0.67241454])"
      ]
     },
     "execution_count": 15,
     "metadata": {},
     "output_type": "execute_result"
    }
   ],
   "source": [
    "rng.random(100) # passing the value 100 through the function\n",
    "\n",
    "# output will be 100 random examples of a float between 0 - 1"
   ]
  },
  {
   "cell_type": "code",
   "execution_count": 16,
   "id": "beab4e24-3c2b-4309-80e4-9ac000b37b1d",
   "metadata": {},
   "outputs": [
    {
     "data": {
      "text/plain": [
       "array([0.55882459, 0.00396111, 0.22257386, 0.33013791, 0.24562682])"
      ]
     },
     "execution_count": 16,
     "metadata": {},
     "output_type": "execute_result"
    }
   ],
   "source": [
    "rng.random((5,)) # determining the size of the output\n",
    "\n",
    "# output will be an array of 5 floats between 0 - 1"
   ]
  },
  {
   "cell_type": "code",
   "execution_count": 17,
   "id": "368d8e57",
   "metadata": {},
   "outputs": [
    {
     "data": {
      "text/plain": [
       "array([[0.07425817, 0.26561968, 0.43558129, 0.4044444 ],\n",
       "       [0.9584816 , 0.19174094, 0.69990881, 0.83240368],\n",
       "       [0.11273022, 0.3046985 , 0.71507754, 0.30632517],\n",
       "       [0.70823585, 0.88152489, 0.2468046 , 0.6753058 ],\n",
       "       [0.59828822, 0.7377924 , 0.15395351, 0.32174511]])"
      ]
     },
     "execution_count": 17,
     "metadata": {},
     "output_type": "execute_result"
    }
   ],
   "source": [
    "rng.random((5,4)) # determining the size of the output\n",
    "\n",
    "# output will be an array of 5 rows of 4 floats"
   ]
  },
  {
   "cell_type": "code",
   "execution_count": 18,
   "id": "c6a39a7c",
   "metadata": {},
   "outputs": [
    {
     "data": {
      "text/plain": [
       "numpy.ndarray"
      ]
     },
     "execution_count": 18,
     "metadata": {},
     "output_type": "execute_result"
    }
   ],
   "source": [
    "type(rng.random((5,))) # you can also check the type of output\n",
    "\n",
    "# output is an numpy array - ndarray - fixed sized array containing data of the same type\n",
    "# Array types can be viewed and modified within Numpy [10] [11]"
   ]
  },
  {
   "cell_type": "code",
   "execution_count": 19,
   "id": "e79d8313",
   "metadata": {},
   "outputs": [
    {
     "data": {
      "text/plain": [
       "array([[-1.56828723, -1.55780496, -1.89110334, -1.72907269],\n",
       "       [-1.02563673, -1.30133111, -1.31217766, -1.6015297 ],\n",
       "       [-1.23061803, -1.78787895, -1.5322592 , -1.04384519]])"
      ]
     },
     "execution_count": 19,
     "metadata": {},
     "output_type": "execute_result"
    }
   ],
   "source": [
    "rng.random((3,4)) -2  # setting the size and also the value\n",
    "\n",
    "# output will be 3 rows of 4 numbers, those numbers will be up to -2 in value"
   ]
  },
  {
   "cell_type": "code",
   "execution_count": 20,
   "id": "8caf16ff",
   "metadata": {},
   "outputs": [
    {
     "data": {
      "text/plain": [
       "array([[-1.0031868 , -1.63726802, -0.36849078, -0.61003861],\n",
       "       [-0.75033389, -1.36177508, -0.21342048, -0.15473639],\n",
       "       [-1.38582712, -1.00969834, -1.10568504, -0.89869975]])"
      ]
     },
     "execution_count": 20,
     "metadata": {},
     "output_type": "execute_result"
    }
   ],
   "source": [
    "(-2)* rng.random((3,4)) # settings the values and the size\n",
    "\n",
    "# following from our last set of code you can see how the same outcome can be achieved through a slight difference in code"
   ]
  },
  {
   "cell_type": "code",
   "execution_count": 21,
   "id": "c63f3f64",
   "metadata": {},
   "outputs": [
    {
     "data": {
      "text/plain": [
       "array([[1.44146601e+01, 1.61944152e+01, 2.98150979e-02, 9.36618136e+00,\n",
       "        1.18605508e+00],\n",
       "       [6.15579291e+00, 8.70430644e+00, 1.45589360e+01, 1.58781759e+01,\n",
       "        1.78048242e+01],\n",
       "       [6.90329030e+00, 5.38431354e+00, 9.94140091e+00, 9.61672344e+00,\n",
       "        2.04344362e+00],\n",
       "       [1.69960460e+01, 1.40847147e+01, 1.61120911e-02, 1.33915651e+01,\n",
       "        1.12323453e+01],\n",
       "       [1.68753989e+01, 1.17886535e+01, 1.69752253e+01, 1.53223085e+01,\n",
       "        9.16276274e+00],\n",
       "       [1.21608908e+01, 1.24526749e+01, 2.17371556e+00, 4.78225263e+00,\n",
       "        1.74734077e+01],\n",
       "       [6.97260497e+00, 3.96036558e+00, 1.26837800e+01, 8.96358379e+00,\n",
       "        7.55035533e-01]])"
      ]
     },
     "execution_count": 21,
     "metadata": {},
     "output_type": "execute_result"
    }
   ],
   "source": [
    "(22 -4)* rng.random((7,5)) ####do I need???"
   ]
  },
  {
   "cell_type": "code",
   "execution_count": 22,
   "id": "888537db",
   "metadata": {},
   "outputs": [
    {
     "data": {
      "text/plain": [
       "array([[12.60368588,  1.1209054 ,  0.88721698,  5.24434246,  2.69660452],\n",
       "       [16.80065859,  1.44819231, 13.58953425, 15.07634073,  0.46769838],\n",
       "       [ 5.53553005, 17.94790914, 10.41629773,  4.6701896 ,  6.27025176],\n",
       "       [ 2.85155277,  1.36253001,  6.40601285,  5.51311105,  7.61377522],\n",
       "       [ 8.46930169, 16.82656191, 16.27047209, 12.40640419, 13.58633095],\n",
       "       [12.58677417,  5.57699023,  7.79619697, 15.64300625,  2.23777462],\n",
       "       [ 8.20683524, 14.09721111, 13.88659397, 13.18917347, 17.89772431]])"
      ]
     },
     "execution_count": 22,
     "metadata": {},
     "output_type": "execute_result"
    }
   ],
   "source": [
    "rng.random((7,5)) *(22 -4) ####do I need???"
   ]
  },
  {
   "cell_type": "markdown",
   "id": "b05f555b",
   "metadata": {},
   "source": [
    "#### Matplotlib.pyplot\n",
    "\n",
    "Here again I have given two examples of graphs with the number of random outputs changed"
   ]
  },
  {
   "cell_type": "code",
   "execution_count": 23,
   "id": "00ee6a0b",
   "metadata": {
    "scrolled": true
   },
   "outputs": [
    {
     "data": {
      "text/plain": [
       "<matplotlib.collections.PathCollection at 0x22f782e25e0>"
      ]
     },
     "execution_count": 23,
     "metadata": {},
     "output_type": "execute_result"
    },
    {
     "data": {
      "image/png": "[encoded data removed]",
      "text/plain": [
       "<Figure size 432x288 with 1 Axes>"
      ]
     },
     "metadata": {
      "needs_background": "light"
     },
     "output_type": "display_data"
    }
   ],
   "source": [
    "number = 10\n",
    "x = rng.random(number)\n",
    "y = rng.random(number)\n",
    "\n",
    "colors = rng.random(number)\n",
    "\n",
    "area = (30 * rng.random(number)) **2\n",
    "\n",
    "plt.scatter(x,y, s=area, c=colors, alpha=0.5)     # [12]"
   ]
  },
  {
   "cell_type": "code",
   "execution_count": 24,
   "id": "05274e2c",
   "metadata": {},
   "outputs": [
    {
     "data": {
      "text/plain": [
       "<matplotlib.collections.PathCollection at 0x22f7834e9d0>"
      ]
     },
     "execution_count": 24,
     "metadata": {},
     "output_type": "execute_result"
    },
    {
     "data": {
      "image/png": "[encoded data removed]",
      "text/plain": [
       "<Figure size 432x288 with 1 Axes>"
      ]
     },
     "metadata": {
      "needs_background": "light"
     },
     "output_type": "display_data"
    }
   ],
   "source": [
    "number = 435\n",
    "x = rng.random(number)\n",
    "y = rng.random(number)\n",
    "\n",
    "colors = rng.random(number)\n",
    "\n",
    "area = (30 * rng.random(number)) **2\n",
    "\n",
    "plt.scatter(x,y, s=area, c=colors, alpha=0.5)"
   ]
  },
  {
   "cell_type": "markdown",
   "id": "b2f4dc28",
   "metadata": {},
   "source": [
    "****\n",
    "#### .choice\n",
    "\n",
    "This function outputs a random choice from a selected grouping - list, array, range.\n",
    "\n",
    "                                            rng.choice() \n",
    "\n",
    "This function will not return a results without setting parameters. [13] [14] [15]"
   ]
  },
  {
   "cell_type": "code",
   "execution_count": 25,
   "id": "09ef6df0",
   "metadata": {},
   "outputs": [
    {
     "data": {
      "text/plain": [
       "array([0, 3, 1, 1, 8], dtype=int64)"
      ]
     },
     "execution_count": 25,
     "metadata": {},
     "output_type": "execute_result"
    }
   ],
   "source": [
    "rng.choice(12,5)     # maximum value , number of choices returned\n",
    "\n",
    "# output numbers from 0-11, 5 choices outputted"
   ]
  },
  {
   "cell_type": "code",
   "execution_count": 26,
   "id": "a2f480c8",
   "metadata": {},
   "outputs": [
    {
     "data": {
      "text/plain": [
       "array([9, 6, 3, 1, 8], dtype=int64)"
      ]
     },
     "execution_count": 26,
     "metadata": {},
     "output_type": "execute_result"
    }
   ],
   "source": [
    "rng.choice(12, 5, replace=False) # maximum value , number of choices returned, choices cannot return in order\n",
    "\n",
    "# output output numbers from 0-11, 5 choices outputted, without duplicates\n",
    "# rng.choice(5, 12, replace=False) - will not work as there cannot be more choices than numbers when replace - false"
   ]
  },
  {
   "cell_type": "code",
   "execution_count": 27,
   "id": "e123fc33",
   "metadata": {},
   "outputs": [
    {
     "data": {
      "text/plain": [
       "'phone'"
      ]
     },
     "execution_count": 27,
     "metadata": {},
     "output_type": "execute_result"
    }
   ],
   "source": [
    "examplelist = [\"laptop\", \"monitor\", \"phone\", \"notebook\"]  # setting a variable listing objects\n",
    "\n",
    "rng.choice(examplelist) # output a random part of this list\n",
    "\n",
    "# output will change each time this is run - it is not set not to repeat"
   ]
  },
  {
   "cell_type": "code",
   "execution_count": 28,
   "id": "b92ca4b3",
   "metadata": {},
   "outputs": [
    {
     "data": {
      "text/plain": [
       "'laptop'"
      ]
     },
     "execution_count": 28,
     "metadata": {},
     "output_type": "execute_result"
    }
   ],
   "source": [
    "examplelist2 = [\"laptop\", \"[1,2,3,4]\", \"(5,6,7)\", \"A\",] # setting a variable listing objects - including string, list, tuples\n",
    "\n",
    "rng.choice(examplelist2) # output a random part of this list\n",
    "\n",
    "#output will change each time this is run - and can be any of the components of the mixed list"
   ]
  },
  {
   "cell_type": "markdown",
   "id": "91071cce",
   "metadata": {},
   "source": [
    "Here you can use .choice to roll a dice and get the results [16]"
   ]
  },
  {
   "cell_type": "code",
   "execution_count": 29,
   "id": "06e16818",
   "metadata": {},
   "outputs": [
    {
     "name": "stdout",
     "output_type": "stream",
     "text": [
      "4\n"
     ]
    }
   ],
   "source": [
    "faces=[1,2,3,4,5,6]\n",
    "def rollDie():\n",
    "      return rng.choice(faces)\n",
    "\n",
    "print(rollDie())  \n",
    "\n",
    "\n",
    "## do I need to do rolling multiple dice?\n",
    "## roll the dice and out put colour - colour for each number?"
   ]
  },
  {
   "cell_type": "code",
   "execution_count": null,
   "id": "88a03a1d",
   "metadata": {},
   "outputs": [],
   "source": []
  },
  {
   "cell_type": "markdown",
   "id": "f89cfb40",
   "metadata": {},
   "source": [
    "### seaborn ####fill in details "
   ]
  },
  {
   "cell_type": "code",
   "execution_count": 30,
   "id": "235807aa",
   "metadata": {},
   "outputs": [
    {
     "data": {
      "image/png": "[encoded data removed]",
      "text/plain": [
       "<Figure size 432x288 with 2 Axes>"
      ]
     },
     "metadata": {
      "needs_background": "light"
     },
     "output_type": "display_data"
    }
   ],
   "source": [
    "import seaborn as sns\n",
    "\n",
    "randomchoices = np.random.rand(10, 12)\n",
    "ax = sns.heatmap(randomchoices, cmap=\"YlGnBu\")"
   ]
  },
  {
   "cell_type": "code",
   "execution_count": 31,
   "id": "52c741a1",
   "metadata": {},
   "outputs": [],
   "source": [
    "#Graphics[Table[\n",
    "#  RandomChoice[{Disk, Circle}][2 {i, j}], {i, 5}, {j, 5}]]\n",
    "\n",
    "\n",
    "# https://reference.wolfram.com/language/ref/RandomChoice.html"
   ]
  },
  {
   "cell_type": "markdown",
   "id": "1a7f5aa6",
   "metadata": {},
   "source": [
    "****\n",
    "#### .bytes\n",
    "                             \n",
    "This function will output a list of random bytes.\n",
    "                             \n",
    "                             rng.bytes() \n"
   ]
  },
  {
   "cell_type": "code",
   "execution_count": 32,
   "id": "ae2462a6",
   "metadata": {},
   "outputs": [
    {
     "data": {
      "text/plain": [
       "b'$\\xe7\\xf7/E-x\\xc8{O'"
      ]
     },
     "execution_count": 32,
     "metadata": {},
     "output_type": "execute_result"
    }
   ],
   "source": [
    "np.random.default_rng().bytes(10)"
   ]
  },
  {
   "cell_type": "code",
   "execution_count": 33,
   "id": "b74b5c44",
   "metadata": {},
   "outputs": [
    {
     "data": {
      "text/plain": [
       "b'\\x12\\xbf\\x8c\\xc2'"
      ]
     },
     "execution_count": 33,
     "metadata": {},
     "output_type": "execute_result"
    }
   ],
   "source": [
    "np.random.default_rng().bytes(4)"
   ]
  },
  {
   "cell_type": "code",
   "execution_count": 34,
   "id": "5be0d54d",
   "metadata": {},
   "outputs": [
    {
     "data": {
      "text/plain": [
       "b'8\\x85v\\xb8v\\x99|>v\\x95nq\\x9ab]Xt\\x8abqVnc\\x82\\x81y\\x8a\\x91yv{|'"
      ]
     },
     "execution_count": 34,
     "metadata": {},
     "output_type": "execute_result"
    }
   ],
   "source": [
    "values = rng.normal(128, 35, size=32)\n",
    "as_bytes = values.astype(np.uint8).tobytes()\n",
    "\n",
    "as_bytes"
   ]
  },
  {
   "cell_type": "markdown",
   "id": "9fa5710a",
   "metadata": {},
   "source": [
    "### need more here - what are the possible uses for this?"
   ]
  },
  {
   "cell_type": "markdown",
   "id": "b227131a",
   "metadata": {},
   "source": [
    "****\n",
    "\n",
    "### Permutations\n",
    "                             \n",
    "****"
   ]
  },
  {
   "cell_type": "markdown",
   "id": "94661b79",
   "metadata": {},
   "source": [
    "Permutation give the user the ability to randomly change the data they are working with.\n",
    "\n",
    "They can change the order of the data using .shuffle or they can take permutations of the data using .permutation\n",
    "\n",
    "This additional ability allows users to transform the data they are using easily and randomly.   [1] [2] [3] [4] [5]"
   ]
  },
  {
   "cell_type": "markdown",
   "id": "f90ba232",
   "metadata": {},
   "source": [
    "****\n",
    "#### .shuffle\n",
    "                             \n",
    "This permutation will shuffle a sequence, giving a random output of the same values but in a different order. [2] [6]\n",
    "                             \n",
    "                             rng.shuffle() \n",
    "\n",
    "In the following code I have provided examples with shuffling an Array, please note that .shuffle also operates on lists, dicts, and strings. [7]"
   ]
  },
  {
   "cell_type": "code",
   "execution_count": 35,
   "id": "031bfc3d",
   "metadata": {},
   "outputs": [
    {
     "data": {
      "text/plain": [
       "array([3, 5, 1, 6, 4, 2])"
      ]
     },
     "execution_count": 35,
     "metadata": {},
     "output_type": "execute_result"
    }
   ],
   "source": [
    "arr = np.array([1,2,3,4,5,6])   # make an array of numbers (note: you can also shuffle a list)\n",
    "\n",
    "rng.shuffle(arr)                # shuffle the array\n",
    "\n",
    "arr                             # output is the shuffled array [6]\n",
    "\n",
    "\n",
    "# shuffle will change the orignal array"
   ]
  },
  {
   "cell_type": "markdown",
   "id": "32f442ed",
   "metadata": {},
   "source": [
    "In the above code the output is a shuffled version of the original array - this will change the original array.\n",
    "\n",
    "In the next code box I have shown how to make a copy of the original array and outputted both the original and new versions of the array."
   ]
  },
  {
   "cell_type": "code",
   "execution_count": 36,
   "id": "6ab2fab8",
   "metadata": {},
   "outputs": [
    {
     "name": "stdout",
     "output_type": "stream",
     "text": [
      "This is the original: [1 2 3 4 5 6]\n",
      "This is the shuffled version: [4 5 2 3 6 1]\n"
     ]
    }
   ],
   "source": [
    "seq = np.array([1,2,3,4,5,6])                         # create a seq - array      \n",
    "\n",
    "new_seq = seq.copy()                                  # create a copy called new_seq\n",
    "\n",
    "rng.shuffle(new_seq)                                  # Shuffle the new_seq\n",
    "\n",
    "print(\"This is the original:\", seq)                   # set the output\n",
    "\n",
    "print(\"This is the shuffled version:\", new_seq)       # set the output\n",
    "\n",
    "# Output is that we have kept the original array\n",
    "# We have also outputted a shuffled version of this array [7] [8]"
   ]
  },
  {
   "cell_type": "markdown",
   "id": "91a62f02",
   "metadata": {},
   "source": [
    "Here we will plot the above to outline a visual representation of the shuffle permutation.\n",
    "\n",
    "The original sequence will stay the same, but by using .copy() the new shuffled sequence will change each time this is run.\n",
    "\n",
    "The natural state of the .shuffle is to change the original sequence."
   ]
  },
  {
   "cell_type": "code",
   "execution_count": 37,
   "id": "8b110bd0",
   "metadata": {},
   "outputs": [
    {
     "data": {
      "image/png": "[encoded data removed]",
      "text/plain": [
       "<Figure size 432x288 with 1 Axes>"
      ]
     },
     "metadata": {
      "needs_background": "light"
     },
     "output_type": "display_data"
    }
   ],
   "source": [
    "seq = np.array([100,200,300,400])         # set the first seq\n",
    "\n",
    "new_seq = seq.copy()                      # make a cpoy of the seq\n",
    "\n",
    "rng.shuffle(new_seq)                      # shuffle the new seq\n",
    "\n",
    " \n",
    "n=4                                       # set the parameters for the bars\n",
    "r = np.arange(n)\n",
    "width = 0.25\n",
    "  \n",
    "  \n",
    "plt.bar(r, seq, color = 'b',                    # plot the seq bar - width, color, design, label\n",
    "        width = width, edgecolor = 'black',\n",
    "        label='Seq')\n",
    "plt.bar(r + width, new_seq, color = 'g',        # plot the new seq bar - width, color, design, label\n",
    "        width = width, edgecolor = 'black',\n",
    "        label='new_seq')\n",
    "  \n",
    " \n",
    "plt.xticks(r + width/2, ['Number 1','Number 2','Number 3','Number 4']) # set ticks and labels\n",
    "plt.legend()                                                           # add a legend\n",
    "  \n",
    "plt.show()                                                             # show plot\n",
    "\n",
    "\n",
    "# the output here will be 4 bar in each colour\n",
    "# the output of the first bars (blue and to the left) will remain constant\n",
    "# the output of the second bars (green and to the right) will change each time   [9]"
   ]
  },
  {
   "cell_type": "code",
   "execution_count": 70,
   "id": "7c04dd12",
   "metadata": {},
   "outputs": [
    {
     "name": "stdout",
     "output_type": "stream",
     "text": [
      "This is a shuffled list [3, 1, 5, 2, 4]\n"
     ]
    }
   ],
   "source": [
    "# .shuffle will work on data structures outside of NumPy arrays.\n",
    "# here is .shuffle working on a list\n",
    "\n",
    "a = [1,2,3,4,5]                          # set variable list a\n",
    "rng.shuffle(a)                           # shuffle list\n",
    "\n",
    "print(\"This is a shuffled list\", a)      # print the output\n",
    "\n",
    "# this output will change each time - also the orignal will be changed each time"
   ]
  },
  {
   "cell_type": "code",
   "execution_count": 78,
   "id": "d118443b",
   "metadata": {},
   "outputs": [
    {
     "name": "stdout",
     "output_type": "stream",
     "text": [
      "This is a multi-diamentional array:\n",
      " [[[ 9 10 11]\n",
      "  [12 13 14]\n",
      "  [15 16 17]]\n",
      "\n",
      " [[ 0  1  2]\n",
      "  [ 3  4  5]\n",
      "  [ 6  7  8]]\n",
      "\n",
      " [[18 19 20]\n",
      "  [21 22 23]\n",
      "  [24 25 26]]]\n"
     ]
    }
   ],
   "source": [
    "# .shuffle also works on an numpy array\n",
    "\n",
    "b = np.arange(27).reshape(3,3,3)                   # set a multidemensional array\n",
    "rng.shuffle(b)                                     # shuffle the array\n",
    "\n",
    "print(\"This is a multi-diamentional array:\\n\", b)  # print the output\n",
    "\n",
    "# this output will change each time\n",
    "# the numbers will remain the same but their placement will change each time the code is run"
   ]
  },
  {
   "cell_type": "markdown",
   "id": "80f741a0",
   "metadata": {},
   "source": [
    "****\n",
    "#### .permutation\n",
    "                             \n",
    "\n",
    "                             \n",
    "                             rng.permutation() \n",
    "\n"
   ]
  },
  {
   "cell_type": "code",
   "execution_count": null,
   "id": "01fac153",
   "metadata": {},
   "outputs": [],
   "source": []
  },
  {
   "cell_type": "code",
   "execution_count": null,
   "id": "c4925b33",
   "metadata": {},
   "outputs": [],
   "source": []
  },
  {
   "cell_type": "code",
   "execution_count": null,
   "id": "4fa122a1",
   "metadata": {},
   "outputs": [],
   "source": []
  },
  {
   "cell_type": "code",
   "execution_count": null,
   "id": "1fb59d4f",
   "metadata": {},
   "outputs": [],
   "source": []
  },
  {
   "cell_type": "code",
   "execution_count": null,
   "id": "547337ab",
   "metadata": {},
   "outputs": [],
   "source": []
  },
  {
   "cell_type": "code",
   "execution_count": null,
   "id": "b3b1a40c",
   "metadata": {},
   "outputs": [],
   "source": []
  },
  {
   "cell_type": "code",
   "execution_count": null,
   "id": "18b5a688",
   "metadata": {},
   "outputs": [],
   "source": []
  },
  {
   "cell_type": "code",
   "execution_count": null,
   "id": "c9acf7e5",
   "metadata": {},
   "outputs": [],
   "source": []
  },
  {
   "cell_type": "code",
   "execution_count": null,
   "id": "bee71e8e",
   "metadata": {},
   "outputs": [],
   "source": []
  },
  {
   "cell_type": "code",
   "execution_count": null,
   "id": "327c62de",
   "metadata": {},
   "outputs": [],
   "source": []
  },
  {
   "cell_type": "markdown",
   "id": "c3dbc1dc",
   "metadata": {},
   "source": [
    "### References\n",
    "\n",
    "#### NumPy\n",
    "[1] Youtube, Amulya's Academy, Introduction to Numpy Library (13th Jul, 2019) https://www.youtube.com/watch?v=hSquw6JGsLM&list=PLzgPDYo_3xunqaoZnnTaoka2R6psn5u2T&index=194\n",
    "\n",
    "[2] Youtube, I am biomed, What is Numpy? Python for Data Science Tutorial (16th April, 2016) https://www.youtube.com/watch?v=pP5dQG0foTs\n",
    "\n",
    "[3] Medium, Farhad Malik, Why should we use NumpPy? (31st March, 2019) https://medium.com/fintechexplained/why-should-we-use-numpy-c14a4fb03ee9\n",
    "\n",
    "[4] NumPy.org, Installing Numpy, (No Date)https://numpy.org/install/\n",
    "\n",
    "[5] W3 Schools, Numpy Getting Started (1999 - 2021) https://www.w3schools.com/python/numpy/numpy_getting_started.asp\n",
    "\n",
    "[6] Ask Python, How to append an Array in Python? (No Date) https://www.askpython.com/python/array/append-an-array-in-python\n",
    "\n",
    "[7] Kite, How to multiply two lits in Python, (no date) https://www.kite.com/python/answers/how-to-multiply-two-lists-in-python\n",
    "\n",
    "[8] Geeks for Geeks, Python - Multiply Two List (27th Dec, 2019) https://www.geeksforgeeks.org/python-multiply-two-list/\n",
    "\n",
    "#### NumPy Random\n",
    "[1] Great Learning, What is NumPy in Python, (28th May, 2021) https://www.mygreatlearning.com/blog/python-numpy-tutorial/ \n",
    "\n",
    "[2] Angela C, Explain the overall purpose of the package numpy.random (2021)\n",
    " https://www.angela1c.com/projects/numpy-random-files/task1/\n",
    " \n",
    "[3] W3Schools, Random Numbers in NumPy, (1999 – 2021 ) https://www.w3schools.com/python/numpy/numpy_random.asp \n",
    "\n",
    "[4] NumPy, Random Generator, (22nd June, 2021) https://numpy.org/doc/stable/reference/random/generator.html#numpy.random.Generator \n",
    "\n",
    "[5] Towards Data Science, What does Random.seed do in NumPy, (27th Sept, 2021) https://towardsdatascience.com/random-seed-numpy-786cf7876a5f \n",
    "\n",
    "\n",
    "#### Simple Random Data & Permutations\n",
    "\n",
    "[1] Youtube, NumPy Random ALL EXPLAINED, (9th July, 2021) https://www.youtube.com/watch?v=uhP7_Of5WX8\n",
    "\n",
    "[2] NumPy, Random Generator (22nd June, 2021) https://numpy.org/doc/stable/reference/random/generator.html#numpy.random.Generator\n",
    "\n",
    "[3] Numpy, numpy.random.generator.integers (22nd June, 2021) https://numpy.org/doc/stable/reference/random/generated/numpy.random.Generator.integers.html#numpy.random.Generator.integers\n",
    "\n",
    "[4] Machine Learning Mastery, How to generate Random Numbers in Python (4th Sept, 2020)https://machinelearningmastery.com/how-to-generate-random-numbers-in-python/\n",
    "\n",
    "[5] NumPy, Data type objects (dtype), (22nd June, 2021) https://numpy.org/doc/stable/reference/arrays.dtypes.html\n",
    "\n",
    "[6] Metplotlib, Pyplot tutorial, (13th Aug, 20201) https://matplotlib.org/stable/tutorials/introductory/pyplot.html\n",
    "\n",
    "[7] NumPy,nupy.random.generator.random, (22nd June, 2021) https://numpy.org/doc/stable/reference/random/generated/numpy.random.Generator.random.html#numpy.random.Generator.random\n",
    "\n",
    "[8] PythonGuides.com, Python NumPy Random [30 examples] (9th Sept, 2021) https://pythonguides.com/python-numpy-random/\n",
    "\n",
    "[9] Studytonight.com, creating random valued arrays in NumPy, (11th Aug, 2021) https://www.studytonight.com/post/creating-random-valuedarrays-in-numpy\n",
    "\n",
    "[10] NumPy, numpy.ndarray, (22nd June, 2021) https://numpy.org/doc/stable/reference/generated/numpy.ndarray.html\n",
    "\n",
    "[11] Machines Learning Mastery, Gentle Indroductions n dimentionsal arrays python numpy (31st Jan, 2018) https://machinelearningmastery.com/gentle-introduction-n-dimensional-arrays-python-numpy/\n",
    "\n",
    "[12] Matplotlib, Scatterplot, (13th Aug, 2021) https://matplotlib.org/stable/gallery/shapes_and_collections/scatter.html\n",
    "\n",
    "[13] NumPy, numpy.random.generator.choice, (22nd June, 2021) https://numpy.org/doc/stable/reference/random/generated/numpy.random.Generator.choice.html#numpy.random.Generator.choice\n",
    "\n",
    "[14] w3schools, Python Random choice() method, (1999 - 2021) https://www.w3schools.com/python/ref_random_choice.asp\n",
    "\n",
    "[15] Stackoverflow, How do I randomly select an item from a list (2010) https://stackoverflow.com/questions/306400/how-can-i-randomly-select-an-item-from-a-list \n",
    "\n",
    "[16] Stackoverflow, random.choice() takes two argments? (2017) https://stackoverflow.com/questions/43388840/random-choice-takes-two-arguments\n",
    "\n",
    "[17] GeeksforGeeks, Python Numbers, Choice()function (10th Jan, 2018) https://www.geeksforgeeks.org/python-numbers-choice-function/\n",
    "\n",
    "[18] Wolfram, RandomChoice, (2021) https://reference.wolfram.com/language/ref/RandomChoice.html\n",
    "\n",
    "[19] Wolfram, Array Plot, (2021) https://reference.wolfram.com/language/ref/ArrayPlot.html\n",
    "\n",
    "[20] Seaborn, seaborn.heatmap (2012 – 2021) https://seaborn.pydata.org/generated/seaborn.heatmap.html\n",
    "\n",
    "[21] NumPy, numpy.random.generator.bytes (22nd June 2021) https://numpy.org/doc/stable/reference/random/generated/numpy.random.Generator.bytes.html#numpy.random.Generator.bytes\n",
    "\n",
    "[22] Geeks for Geeks, Random bytes ()function (27th Dec, 2019) https://www.geeksforgeeks.org/ruby-random-bytes-function/\n",
    "\n",
    "[23] Stack overflow, Generate random byte array from a distribution, (2019) https://stackoverflow.com/questions/57740139/generate-random-bytearray-from-a-distribution\n",
    "\n",
    "\n",
    "#### Permutations\n",
    "\n",
    "[1] Numpy, Random Generator, (22nd June, 2021) https://numpy.org/doc/stable/reference/random/generator.html#numpy.random.Generator \n",
    "\n",
    "[2]  Numpy, numpy.random.generator.shuffle, (22nd June, 2021) https://numpy.org/doc/stable/reference/random/generated/numpy.random.Generator.shuffle.html#numpy.random.Generator.shuffle \n",
    "\n",
    "[3] Numpy, numpy.random.generator.permutation (22nd June, 2021) https://numpy.org/doc/stable/reference/random/generated/numpy.random.Generator.permutation.html#numpy.random.Generator.permutation \n",
    "\n",
    "[4] Merriam-webster, permute (No Date) https://www.merriam-webster.com/dictionary/permute \n",
    "\n",
    "[5] Thesaurus.com, permutation (No Date)  https://www.thesaurus.com/browse/permutation \n",
    "\n",
    "[6] w3schools, Random Permutations (1999 - 2021) https://www.w3schools.com/python/numpy/numpy_random_permutation.asp \n",
    "\n",
    "[7] PYnative, Python Programming, Python random.shuffle() functions to shuffle list, (16th June, 2021) https://pynative.com/python-random-shuffle/ \n",
    "\n",
    "[8] GeeksforGeeks.org, Array Copying in Python, (11th Aug, 2021) https://www.geeksforgeeks.org/array-copying-in-python/ \n",
    "\n",
    "[9] GeeksforGeeks.org, Plotting multiple bar charts using Matplotlib in Python, (25th Feb, 2021) https://www.geeksforgeeks.org/plotting-multiple-bar-charts-using-matplotlib-in-python/ \n",
    "\n",
    "\n",
    "\n",
    "##### uniform\n",
    "[2] Youtube, Python Tutoral; Generate Random Numbers and Data using the random module, (29th Aug, 2021) https://www.youtube.com/watch?v=KzqSDvzOFNA\n"
   ]
  },
  {
   "cell_type": "markdown",
   "id": "617fa5e0",
   "metadata": {},
   "source": [
    "\n"
   ]
  }
 ],
 "metadata": {
  "kernelspec": {
   "display_name": "Python 3",
   "language": "python",
   "name": "python3"
  },
  "language_info": {
   "codemirror_mode": {
    "name": "ipython",
    "version": 3
   },
   "file_extension": ".py",
   "mimetype": "text/x-python",
   "name": "python",
   "nbconvert_exporter": "python",
   "pygments_lexer": "ipython3",
   "version": "3.8.8"
  }
 },
 "nbformat": 4,
 "nbformat_minor": 5
}
