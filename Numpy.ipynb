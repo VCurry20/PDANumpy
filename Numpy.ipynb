{
 "cells": [
  {
   "cell_type": "markdown",
   "id": "09b99f47-2139-4bcb-817b-5146843d9bae",
   "metadata": {},
   "source": [
    "# NumPy\n",
    "\n",
    "Project giving overview of NumPy, especially the numpy.random package\n",
    "\n",
    "Author: Veronica Curry\n",
    "\n",
    "Student ID: G00074924\n",
    "\n",
    "****\n",
    "\n",
    "\n",
    "This project includes the following:\n",
    "\n",
    "> [Overall Purpose of numpy.random](#purpose)\n",
    "\n",
    "> [Explaination of 'Simple Random Data' & 'Permutations'](#simplerandom)\n",
    "\n",
    "> [Use and Purpose of at least 5 'Distributions' functions](#distributions)\n",
    "\n",
    "> The use of seeds in generating pseudorandom numbers\n",
    "\n",
    "\n",
    "****\n"
   ]
  },
  {
   "cell_type": "markdown",
   "id": "37bb634a",
   "metadata": {},
   "source": [
    "<a id=\"purpose\"></a>"
   ]
  },
  {
   "cell_type": "markdown",
   "id": "0a0d0765",
   "metadata": {},
   "source": [
    "### NumPy\n",
    "\n",
    "****"
   ]
  },
  {
   "cell_type": "markdown",
   "id": "cf51c088",
   "metadata": {},
   "source": [
    "<div class=\"alert alert-block alert-info\">\n",
    "<b>Code:</b> \n",
    "    \n",
    "    import numpy as np\n",
    "    \n",
    "</div>"
   ]
  },
  {
   "cell_type": "markdown",
   "id": "c433c1d8",
   "metadata": {},
   "source": [
    "NumPy is, at its most basic, numerical python.\n",
    "\n",
    "It is a library that expands on the numerical capabilities of python and also acts as a basis for further numerical packages such as pandas or matplotlib [1]\n",
    "\n",
    "NumPy's strength lies in it's abiliity to provide a step up from Python's lists, using arrays NumPy allows for easier, faster and more efficent manipulation of data. [2]\n",
    "\n",
    "Arrays can be multi-dimensional or matrices. For a full overview of the many way in which arrays can be created and written please review this [page](https://medium.com/fintechexplained/why-should-we-use-numpy-c14a4fb03ee9) .[3]\n",
    "\n",
    "As an extension of Python, NumPy is installed as part of Anaconda, and can be imported simply using an alias. [4] [5]\n"
   ]
  },
  {
   "cell_type": "code",
   "execution_count": 1,
   "id": "6b5ea312",
   "metadata": {},
   "outputs": [],
   "source": [
    "import numpy as np     # import the numpy package - this is the standard import abbreviation"
   ]
  },
  {
   "cell_type": "markdown",
   "id": "72f93506",
   "metadata": {},
   "source": [
    "This section of code will just provide a simple outline of the difference between lists and arrays. \n",
    "\n",
    "In the first sets of code you will clearly see the difference between simply adding two lists verses adding two arrays.\n",
    "\n",
    "Lists will simply add the contents of both lists to a new list, where arrarys allow you to complete mathimatical processes on their contents. \n",
    "\n",
    "It should be noted that by using the append function we can also add the contents of an array to the contents of another array. Numpy offers you both options depending on your requirements. [6]"
   ]
  },
  {
   "cell_type": "code",
   "execution_count": 2,
   "id": "7201bfba",
   "metadata": {},
   "outputs": [
    {
     "data": {
      "text/plain": [
       "[1, 2, 3, 3, 4, 5]"
      ]
     },
     "execution_count": 2,
     "metadata": {},
     "output_type": "execute_result"
    }
   ],
   "source": [
    "# Lists\n",
    "\n",
    "list1 = [1,2,3]      # set varible - list 1\n",
    "list2 = [3,4,5]      # set varible - list 2\n",
    "\n",
    "list1 + list2        # add list 1 and list 2"
   ]
  },
  {
   "cell_type": "code",
   "execution_count": 3,
   "id": "5c8e1bbd",
   "metadata": {},
   "outputs": [
    {
     "data": {
      "text/plain": [
       "array([4, 6, 8])"
      ]
     },
     "execution_count": 3,
     "metadata": {},
     "output_type": "execute_result"
    }
   ],
   "source": [
    "# arrays\n",
    "\n",
    "array1 = np.array([1,2,3])   # set varible - array 1\n",
    "array2 = np.array([3,4,5])   # set varible - array 2\n",
    "\n",
    "array1 + array2              # add array 1 and array 2"
   ]
  },
  {
   "cell_type": "markdown",
   "id": "75245d70",
   "metadata": {},
   "source": [
    "The differences and power of Numpy becomes more apparent when you multiply lists [7]\n",
    "\n",
    "The code required to complete this action is much cleaner and simplier when using arrays. [8]"
   ]
  },
  {
   "cell_type": "code",
   "execution_count": 4,
   "id": "4c0dcfed",
   "metadata": {},
   "outputs": [
    {
     "name": "stdout",
     "output_type": "stream",
     "text": [
      "List1 multiplied by list2 is:[3, 8, 15]\n"
     ]
    }
   ],
   "source": [
    "# Lists [8] \n",
    "\n",
    "list1 = [1,2,3]                          # set varible - list 1\n",
    "list2 = [3,4,5]                          # set varible - list 2\n",
    "\n",
    "listbylist = []                              # set an empty list\n",
    "for i in range(0, len(list1)):               # for i of this list - set as list 1\n",
    "    listbylist.append(list1[i] * list2[i])   # append the list the result of each value of list 1 * each value of list 2\n",
    "\n",
    "print(\"List1 multiplied by list2 is:\" + str(listbylist))  # print the statement plus the resulting values in listbylist\n"
   ]
  },
  {
   "cell_type": "code",
   "execution_count": 5,
   "id": "fc271948",
   "metadata": {},
   "outputs": [
    {
     "data": {
      "text/plain": [
       "array([ 3,  8, 15])"
      ]
     },
     "execution_count": 5,
     "metadata": {},
     "output_type": "execute_result"
    }
   ],
   "source": [
    "# arrays\n",
    "\n",
    "array1 = np.array([1,2,3])   # set varible - array 1\n",
    "array2 = np.array([3,4,5])   # set varible - array 2\n",
    "\n",
    "array1 * array2              # multiply array 1 by array 2"
   ]
  },
  {
   "cell_type": "markdown",
   "id": "af5294fd",
   "metadata": {},
   "source": [
    "These simple examples of code show the power of NumPy and the importance of the use of Arrays. \n",
    "\n",
    "From this viewpoint we can see how NumPy further builds to allow us greater capacity to generate numbers and use those numbers quickly and efficiently in programming, testing and Machine Learning."
   ]
  },
  {
   "cell_type": "markdown",
   "id": "c63a4625",
   "metadata": {},
   "source": [
    "*****\n",
    "\n",
    "### NumPy Random\n",
    "\n",
    "****"
   ]
  },
  {
   "cell_type": "markdown",
   "id": "abd9367f",
   "metadata": {},
   "source": [
    "<div class=\"alert alert-block alert-info\">\n",
    "<b>Code:</b> \n",
    "   \n",
    "    rng = np.random.default_rng()\n",
    "    \n",
    "</div>"
   ]
  },
  {
   "cell_type": "markdown",
   "id": "13e19eef",
   "metadata": {},
   "source": [
    "NumPy provides a built-in function for random number generation – numpy.random [1]\n",
    "\n",
    "This allows for the creation of pseudorandom data, in the forms of arrays, which can then be used for mathematical problems, program testing, data Analysis etc. [2]\n",
    "\n",
    "The provision of random data by NumPy allows us to learn programming and then importantly to test our programs with random, but also if required, reproducible data, prior to any real world application."
   ]
  },
  {
   "cell_type": "markdown",
   "id": "4a55d8ec",
   "metadata": {},
   "source": [
    "-----\n",
    "\n",
    "<dl>\n",
    "<dt>As outlined, in W3Schools it is important to remember:</dt>\n",
    "\n",
    "<dd>“Random number does NOT mean a different number every time. Random means something that can not be predicted logically.\" [3] </dd>\n",
    "    \n",
    "-----"
   ]
  },
  {
   "cell_type": "markdown",
   "id": "b4a0e5f3",
   "metadata": {},
   "source": [
    "NumPy.random provides pseudorandom numbers for us to use – this means that the numbers are not totally random, infact NumPy.random gives us the ability to choose the kind of random numbers we need.\n",
    "\n",
    "Pseudorandom data is data that is produced by Python, using an algorythim and by our imputs. It is not truly random and should not be treated as such. \n",
    "\n",
    "Numpy.random through the use of simple random data, permutations, and also number distributions allows us to amend and tailor the random data we need for our given purpose.[4]\n",
    "\n",
    "Further we can actually choose the starting place for the random numbers we generate and reproduce the numbers through the use of seeds. [5] This allows for reproducible results for testing. "
   ]
  },
  {
   "cell_type": "code",
   "execution_count": 6,
   "id": "7f54bff6",
   "metadata": {},
   "outputs": [],
   "source": [
    "rng = np.random.default_rng() # import the numpy package - this is the standard import abbreviation"
   ]
  },
  {
   "cell_type": "markdown",
   "id": "07b4687e",
   "metadata": {},
   "source": [
    "It should be noted that there has been an update in the documentation and a change from the use of Mersenne Twister pseudo-random number generator (MT19937), to the Permutation Congruential Generator pseudo-random number generatorm(PCG-64).\n",
    "\n",
    "The reason for this change is that it is thought that the PCG-64 is more efficient and has better \"stastical properties\". [6]\n",
    "\n",
    "This update in documentation has also involved the cleaning up of the code and the simplfying of the various processes.\n",
    "\n",
    "Random now uses the above code - this code offers the same functionality of simple random data, permutations and also distributions but marrys this with an ability to \"seed the data\".\n",
    "\n",
    "This process allows for you to have reproducible random data. [7]"
   ]
  },
  {
   "cell_type": "markdown",
   "id": "439ba105",
   "metadata": {},
   "source": [
    "<a id=\"simplerandom\"></a>"
   ]
  },
  {
   "cell_type": "markdown",
   "id": "d00746bd",
   "metadata": {},
   "source": [
    "----\n",
    "\n",
    "### Simple Random Data\n",
    "\n",
    "----"
   ]
  },
  {
   "cell_type": "markdown",
   "id": "7314e348",
   "metadata": {},
   "source": [
    "When processing data we often want to give NumPy parameters as to what type of data we need, the permutations of this data and even as a further step the distibution of this data.\n",
    "\n",
    "The first functions we can pass through Numpy.random are the following simple random data functions [1][2]:\n",
    "\n",
    "- integers\n",
    "- random \n",
    "- choice\n",
    "- bytes\n",
    "    \n",
    "   \n",
    "These functions offer clear, and concise options. \n",
    "\n",
    "In the most recent documentation previous functions have been cut out leaving the above listed options. This removes duplication and give user a clearer choice of options when using NumPy.\n",
    "\n"
   ]
  },
  {
   "cell_type": "markdown",
   "id": "1ca9d6d4-034d-445b-98c9-bfaf08b5b916",
   "metadata": {},
   "source": [
    "****\n",
    "#### integers\n",
    "                             \n",
    "This function will output a list of random integers.\n",
    "                             \n",
    "                             rng.integers() \n",
    "\n",
    "This on its own will not work - for this function you are required to set parameters detailing the beginning and end numbers, the amount of numbers, shape of array, or boolean values. [2]"
   ]
  },
  {
   "cell_type": "code",
   "execution_count": 7,
   "id": "ea23622c-a514-4bfb-a911-d833fb0a3f34",
   "metadata": {},
   "outputs": [
    {
     "data": {
      "text/plain": [
       "array([5, 1], dtype=int64)"
      ]
     },
     "execution_count": 7,
     "metadata": {},
     "output_type": "execute_result"
    }
   ],
   "source": [
    "rng.integers(6, size=(2))       # here we set a highest value and the size of the output\n",
    "\n",
    "# output will give number up but not including 6 ( 0,1,2,3,4,5)\n",
    "# output will give two of these numbers which are randomly generated\n",
    "# output will give the data type - the standard here is int64 [3]"
   ]
  },
  {
   "cell_type": "code",
   "execution_count": 8,
   "id": "99b8f4e6",
   "metadata": {},
   "outputs": [
    {
     "data": {
      "text/plain": [
       "array([2, 2], dtype=int64)"
      ]
     },
     "execution_count": 8,
     "metadata": {},
     "output_type": "execute_result"
    }
   ],
   "source": [
    "rng.integers(1,6, size=(2))    # here we have given a min - max output values and the size of the output\n",
    "\n",
    "# output will be two integers between 1-6\n",
    "# output will also include data type [4]"
   ]
  },
  {
   "cell_type": "code",
   "execution_count": 9,
   "id": "0372f757-1704-4eb5-bac4-edba16fa6159",
   "metadata": {},
   "outputs": [
    {
     "data": {
      "text/plain": [
       "array([[5, 3, 3, 3],\n",
       "       [5, 2, 2, 3]], dtype=int64)"
      ]
     },
     "execution_count": 9,
     "metadata": {},
     "output_type": "execute_result"
    }
   ],
   "source": [
    "rng.integers(1,6, size=(2,4))  # here by changing the size parameters\n",
    "\n",
    "# output will be an array with two rows"
   ]
  },
  {
   "cell_type": "code",
   "execution_count": 10,
   "id": "887d856c",
   "metadata": {},
   "outputs": [
    {
     "data": {
      "text/plain": [
       "array([[[1, 5],\n",
       "        [1, 3],\n",
       "        [1, 2],\n",
       "        [3, 1]],\n",
       "\n",
       "       [[1, 1],\n",
       "        [2, 5],\n",
       "        [2, 2],\n",
       "        [4, 5]]], dtype=int64)"
      ]
     },
     "execution_count": 10,
     "metadata": {},
     "output_type": "execute_result"
    }
   ],
   "source": [
    "rng.integers(1,6, size=(2,4,2))  # here we have added yet more complexity to the array outputs\n",
    "\n",
    "# outputs are now two sets of data with in an array, with each holding 2 * 4 rows of random numbers"
   ]
  },
  {
   "cell_type": "code",
   "execution_count": 11,
   "id": "4fd917dc",
   "metadata": {},
   "outputs": [
    {
     "data": {
      "text/plain": [
       "array([0, 1])"
      ]
     },
     "execution_count": 11,
     "metadata": {},
     "output_type": "execute_result"
    }
   ],
   "source": [
    "rng.integers(6, size=(2), dtype=np.int32)   # here we changed the output to a 32-bit integer [5]"
   ]
  },
  {
   "cell_type": "markdown",
   "id": "1be41523",
   "metadata": {},
   "source": [
    "#### Matplotlib.pyplot"
   ]
  },
  {
   "cell_type": "markdown",
   "id": "1f9aade7",
   "metadata": {},
   "source": [
    "<div class=\"alert alert-block alert-info\">\n",
    "<b>Code:</b> \n",
    "    \n",
    "    import matplotlib.pyplot as plt\n",
    "    \n",
    "</div>"
   ]
  },
  {
   "cell_type": "markdown",
   "id": "d06156c1",
   "metadata": {},
   "source": [
    "Using Matplotlib we can plot the results of rng.integers - this will give you a better understanding of the randomness of the data\n",
    "\n",
    "The number of plot points can be changed to give an overview of how the data is outputted over time - how random the data set it and how many of each number points is displayed [6]"
   ]
  },
  {
   "cell_type": "code",
   "execution_count": 12,
   "id": "6695c8d5",
   "metadata": {},
   "outputs": [
    {
     "data": {
      "text/plain": [
       "[<matplotlib.lines.Line2D at 0x1f45fd45400>]"
      ]
     },
     "execution_count": 12,
     "metadata": {},
     "output_type": "execute_result"
    },
    {
     "data": {
      "image/png": "[encoded data removed]",
      "text/plain": [
       "<Figure size 432x288 with 1 Axes>"
      ]
     },
     "metadata": {
      "needs_background": "light"
     },
     "output_type": "display_data"
    }
   ],
   "source": [
    "import matplotlib.pyplot as plt   # import matplotlib - this is the standard import abbreviation\n",
    "\n",
    "x = rng.integers(6, size=(10))    # variable x is - random integers - highest value six - plot ten random points\n",
    "\n",
    "plt.plot(x)                       # plot this variable "
   ]
  },
  {
   "cell_type": "code",
   "execution_count": 13,
   "id": "0d3635ce",
   "metadata": {},
   "outputs": [
    {
     "data": {
      "text/plain": [
       "[<matplotlib.lines.Line2D at 0x1f4604acd90>]"
      ]
     },
     "execution_count": 13,
     "metadata": {},
     "output_type": "execute_result"
    },
    {
     "data": {
      "image/png": "[encoded data removed]",
      "text/plain": [
       "<Figure size 432x288 with 1 Axes>"
      ]
     },
     "metadata": {
      "needs_background": "light"
     },
     "output_type": "display_data"
    }
   ],
   "source": [
    "# here you can see the difference in the graph when we plot a larger group of points\n",
    "\n",
    "\n",
    "x = rng.integers(6, size=(100))    # variable x is - random integers - highest value six - plot one hundred random points\n",
    "\n",
    "plt.plot(x)                        # plot this variable"
   ]
  },
  {
   "cell_type": "code",
   "execution_count": 14,
   "id": "b9d08f9b",
   "metadata": {},
   "outputs": [
    {
     "data": {
      "text/plain": [
       "[<matplotlib.lines.Line2D at 0x1f46050cf40>]"
      ]
     },
     "execution_count": 14,
     "metadata": {},
     "output_type": "execute_result"
    },
    {
     "data": {
      "image/png": "[encoded data removed]",
      "text/plain": [
       "<Figure size 432x288 with 1 Axes>"
      ]
     },
     "metadata": {
      "needs_background": "light"
     },
     "output_type": "display_data"
    }
   ],
   "source": [
    "# here you can see the difference is more pronounced\n",
    "# you can see that the majority of points stay within the middle of the graph\n",
    "\n",
    "\n",
    "x = rng.integers(6, size=(1000))    # variable x is - random integers - highest value six - plot one thousand random points\n",
    "\n",
    "plt.plot(x)                        # plot this variable"
   ]
  },
  {
   "cell_type": "markdown",
   "id": "58c33b76",
   "metadata": {},
   "source": [
    "****\n",
    "#### .random\n",
    "\n",
    "This function will return floats, and operates much the same way as .integer\n",
    "\n",
    "                                            rng.random() \n",
    "\n",
    "This function will return a result without setting any parameters. [7] [8] [9]   "
   ]
  },
  {
   "cell_type": "code",
   "execution_count": 15,
   "id": "fd18c22d-3425-4b73-b3ed-084800b3ab04",
   "metadata": {},
   "outputs": [
    {
     "data": {
      "text/plain": [
       "0.7896896705703688"
      ]
     },
     "execution_count": 15,
     "metadata": {},
     "output_type": "execute_result"
    }
   ],
   "source": [
    "rng.random()   # Unlike .integer we can pass no value through this function and get a result\n",
    "\n",
    "# output will be a random float"
   ]
  },
  {
   "cell_type": "code",
   "execution_count": 16,
   "id": "55400804",
   "metadata": {},
   "outputs": [
    {
     "data": {
      "text/plain": [
       "array([0.21837004, 0.43056907, 0.43052753, 0.97004392, 0.69133466,\n",
       "       0.43203853, 0.74148951, 0.73561387, 0.71555595, 0.77824934,\n",
       "       0.995819  , 0.96756275, 0.27131374, 0.31632061, 0.67130112,\n",
       "       0.87868127, 0.14523469, 0.78204745, 0.75147852, 0.06139138,\n",
       "       0.25616854, 0.73722108, 0.84109387, 0.1780735 , 0.39244085,\n",
       "       0.05711251, 0.87422251, 0.85213099, 0.9965852 , 0.09075423,\n",
       "       0.62966957, 0.50875935, 0.01797011, 0.98387505, 0.23041811,\n",
       "       0.19366506, 0.51515532, 0.5511266 , 0.68170823, 0.57750013,\n",
       "       0.37390587, 0.40246507, 0.06449819, 0.86416746, 0.26461736,\n",
       "       0.53844892, 0.17957935, 0.10419875, 0.90385031, 0.52558354,\n",
       "       0.17840284, 0.03704023, 0.81137768, 0.17687595, 0.67416653,\n",
       "       0.62411485, 0.22582068, 0.67261668, 0.91914973, 0.80735207,\n",
       "       0.81918994, 0.09038554, 0.26882724, 0.05925797, 0.03868412,\n",
       "       0.67134297, 0.69548615, 0.93460334, 0.47856963, 0.58892171,\n",
       "       0.50553608, 0.88014678, 0.97326295, 0.34203116, 0.54472109,\n",
       "       0.3333421 , 0.33249201, 0.99446544, 0.73552951, 0.7629562 ,\n",
       "       0.22418397, 0.42591236, 0.10611347, 0.15187201, 0.60494312,\n",
       "       0.05729777, 0.0134989 , 0.38753841, 0.19886129, 0.57642744,\n",
       "       0.04240762, 0.02491906, 0.6850273 , 0.41709131, 0.60908351,\n",
       "       0.05402919, 0.86854718, 0.35808058, 0.08497557, 0.05105407])"
      ]
     },
     "execution_count": 16,
     "metadata": {},
     "output_type": "execute_result"
    }
   ],
   "source": [
    "rng.random(100) # passing the value 100 through the function\n",
    "\n",
    "# output will be 100 random examples of a float between 0 - 1"
   ]
  },
  {
   "cell_type": "code",
   "execution_count": 17,
   "id": "beab4e24-3c2b-4309-80e4-9ac000b37b1d",
   "metadata": {},
   "outputs": [
    {
     "data": {
      "text/plain": [
       "array([0.5275957 , 0.99622703, 0.23409614, 0.99117769, 0.79294716])"
      ]
     },
     "execution_count": 17,
     "metadata": {},
     "output_type": "execute_result"
    }
   ],
   "source": [
    "rng.random((5,)) # determining the size of the output\n",
    "\n",
    "# output will be an array of 5 floats between 0 - 1"
   ]
  },
  {
   "cell_type": "code",
   "execution_count": 18,
   "id": "368d8e57",
   "metadata": {},
   "outputs": [
    {
     "data": {
      "text/plain": [
       "array([[0.98978252, 0.71809641, 0.55502885, 0.76308509],\n",
       "       [0.55021434, 0.52593631, 0.5725454 , 0.32793624],\n",
       "       [0.77367353, 0.66381897, 0.08442476, 0.2100289 ],\n",
       "       [0.66644231, 0.80782184, 0.91266748, 0.58258951],\n",
       "       [0.75495119, 0.83966774, 0.98788928, 0.31495992]])"
      ]
     },
     "execution_count": 18,
     "metadata": {},
     "output_type": "execute_result"
    }
   ],
   "source": [
    "rng.random((5,4)) # determining the size of the output\n",
    "\n",
    "# output will be an array of 5 rows of 4 floats"
   ]
  },
  {
   "cell_type": "code",
   "execution_count": 19,
   "id": "c6a39a7c",
   "metadata": {},
   "outputs": [
    {
     "data": {
      "text/plain": [
       "numpy.ndarray"
      ]
     },
     "execution_count": 19,
     "metadata": {},
     "output_type": "execute_result"
    }
   ],
   "source": [
    "type(rng.random((5,))) # you can also check the type of output\n",
    "\n",
    "# output is an numpy array - ndarray - fixed sized array containing data of the same type\n",
    "# Array types can be viewed and modified within Numpy [10] [11]"
   ]
  },
  {
   "cell_type": "code",
   "execution_count": 20,
   "id": "e79d8313",
   "metadata": {},
   "outputs": [
    {
     "data": {
      "text/plain": [
       "array([[-1.02477467, -1.19846654, -1.18741754, -1.07512674],\n",
       "       [-1.16597914, -1.4409329 , -1.92601216, -1.98591123],\n",
       "       [-1.69928681, -1.17299927, -1.82500444, -1.52056975]])"
      ]
     },
     "execution_count": 20,
     "metadata": {},
     "output_type": "execute_result"
    }
   ],
   "source": [
    "rng.random((3,4)) -2  # setting the size and also the value\n",
    "\n",
    "# output will be 3 rows of 4 numbers, those numbers will be up to -2 in value"
   ]
  },
  {
   "cell_type": "code",
   "execution_count": 21,
   "id": "8caf16ff",
   "metadata": {},
   "outputs": [
    {
     "data": {
      "text/plain": [
       "array([[-1.12515078, -1.22455344, -0.12259732, -0.78522809],\n",
       "       [-1.21793963, -0.28802465, -0.84870009, -1.68409308],\n",
       "       [-0.61328191, -0.39035149, -0.53886019, -1.77912301]])"
      ]
     },
     "execution_count": 21,
     "metadata": {},
     "output_type": "execute_result"
    }
   ],
   "source": [
    "(-2)* rng.random((3,4)) # settings the values and the size\n",
    "\n",
    "# following from our last set of code you can see how the same outcome can be achieved through a slight difference in code"
   ]
  },
  {
   "cell_type": "markdown",
   "id": "b05f555b",
   "metadata": {},
   "source": [
    "#### Matplotlib.pyplot\n",
    "\n",
    "Here again I have given two examples of graphs with the number of random outputs changed"
   ]
  },
  {
   "cell_type": "code",
   "execution_count": 22,
   "id": "00ee6a0b",
   "metadata": {
    "scrolled": true
   },
   "outputs": [
    {
     "data": {
      "text/plain": [
       "<matplotlib.collections.PathCollection at 0x1f4606b59d0>"
      ]
     },
     "execution_count": 22,
     "metadata": {},
     "output_type": "execute_result"
    },
    {
     "data": {
      "image/png": "[encoded data removed]",
      "text/plain": [
       "<Figure size 432x288 with 1 Axes>"
      ]
     },
     "metadata": {
      "needs_background": "light"
     },
     "output_type": "display_data"
    }
   ],
   "source": [
    "number = 10                                      # set variable number as 10 - ten random points will be plotted\n",
    "x = rng.random(number)                           # x = random choice from the number\n",
    "y = rng.random(number)                           # y = random choice from the number\n",
    "\n",
    "colours = rng.random(number)                     # Colours = random choice from the number\n",
    "\n",
    "area = (30 * rng.random(number)) **2             # set area of the graph \n",
    "\n",
    "plt.scatter(x,y, s=area, c=colours, alpha=0.5)   # plt the scatter plot with this random selection [12]\n",
    "\n",
    "\n",
    "# each time you run this code the data points will change but also the colours of the data points"
   ]
  },
  {
   "cell_type": "code",
   "execution_count": 23,
   "id": "05274e2c",
   "metadata": {},
   "outputs": [
    {
     "data": {
      "text/plain": [
       "<matplotlib.collections.PathCollection at 0x1f460727070>"
      ]
     },
     "execution_count": 23,
     "metadata": {},
     "output_type": "execute_result"
    },
    {
     "data": {
      "image/png": "[encoded data removed]",
      "text/plain": [
       "<Figure size 432x288 with 1 Axes>"
      ]
     },
     "metadata": {
      "needs_background": "light"
     },
     "output_type": "display_data"
    }
   ],
   "source": [
    "number = 435                                          # set variable number as 435 - 435 random points will be plotted\n",
    "x = rng.random(number)                                # x = random choice from the number\n",
    "y = rng.random(number)                                # y = random choice from the number\n",
    "\n",
    "colours = rng.random(number)                          # Colours = random choice from the number\n",
    "\n",
    "area = (30 * rng.random(number)) **2                  # set area of the graph \n",
    "\n",
    "plt.scatter(x,y, s=area, c=colours, alpha=0.5)        # plt the scatter plot with this random selection [12]\n",
    "\n",
    "\n",
    "\n",
    "# here we choose a large number of random points and again it will change each time the code is run\n",
    "# the data points are random and also we can see the colour chouces are random withinth the colour set"
   ]
  },
  {
   "cell_type": "markdown",
   "id": "b2f4dc28",
   "metadata": {},
   "source": [
    "****\n",
    "#### .choice\n",
    "\n",
    "This function outputs a random choice from a selected grouping - list, array, range.\n",
    "\n",
    "                                            rng.choice() \n",
    "\n",
    "This function will not return a results without setting parameters. [13] [14] [15]"
   ]
  },
  {
   "cell_type": "code",
   "execution_count": 24,
   "id": "09ef6df0",
   "metadata": {},
   "outputs": [
    {
     "data": {
      "text/plain": [
       "array([10,  0,  2,  8,  2], dtype=int64)"
      ]
     },
     "execution_count": 24,
     "metadata": {},
     "output_type": "execute_result"
    }
   ],
   "source": [
    "rng.choice(12,5)     # maximum value , number of choices returned\n",
    "\n",
    "# output numbers from 0-11, 5 choices outputted"
   ]
  },
  {
   "cell_type": "code",
   "execution_count": 25,
   "id": "a2f480c8",
   "metadata": {},
   "outputs": [
    {
     "data": {
      "text/plain": [
       "array([ 8,  5,  6,  3, 11], dtype=int64)"
      ]
     },
     "execution_count": 25,
     "metadata": {},
     "output_type": "execute_result"
    }
   ],
   "source": [
    "rng.choice(12, 5, replace=False) # maximum value , number of choices returned, choices cannot return in order\n",
    "\n",
    "# output output numbers from 0-11, 5 choices outputted, without duplicates\n",
    "# rng.choice(5, 12, replace=False) - will not work as there cannot be more choices than numbers when replace - false"
   ]
  },
  {
   "cell_type": "code",
   "execution_count": 26,
   "id": "e123fc33",
   "metadata": {},
   "outputs": [
    {
     "data": {
      "text/plain": [
       "'phone'"
      ]
     },
     "execution_count": 26,
     "metadata": {},
     "output_type": "execute_result"
    }
   ],
   "source": [
    "examplelist = [\"laptop\", \"monitor\", \"phone\", \"notebook\"]  # setting a variable listing objects\n",
    "\n",
    "rng.choice(examplelist) # output a random part of this list\n",
    "\n",
    "# output will change each time this is run - it is not set not to repeat"
   ]
  },
  {
   "cell_type": "code",
   "execution_count": 27,
   "id": "b92ca4b3",
   "metadata": {},
   "outputs": [
    {
     "data": {
      "text/plain": [
       "'(5,6,7)'"
      ]
     },
     "execution_count": 27,
     "metadata": {},
     "output_type": "execute_result"
    }
   ],
   "source": [
    "examplelist2 = [\"laptop\", \"[1,2,3,4]\", \"(5,6,7)\", \"A\",] # setting a variable listing objects - including string, list, tuples\n",
    "\n",
    "rng.choice(examplelist2) # output a random part of this list\n",
    "\n",
    "#output will change each time this is run - and can be any of the components of the mixed list"
   ]
  },
  {
   "cell_type": "markdown",
   "id": "91071cce",
   "metadata": {},
   "source": [
    "Here you can use .choice to roll a dice and get the results [16]"
   ]
  },
  {
   "cell_type": "code",
   "execution_count": 28,
   "id": "06e16818",
   "metadata": {},
   "outputs": [
    {
     "data": {
      "text/plain": [
       "4"
      ]
     },
     "execution_count": 28,
     "metadata": {},
     "output_type": "execute_result"
    }
   ],
   "source": [
    "faces=[1,2,3,4,5,6]                # this is a list of the faces of a dice\n",
    "def rollDie():                     # defining the fuction - roll dice\n",
    "      return rng.choice(faces)     # return random choices from these faces\n",
    "\n",
    "rollDie()                          # print outcome of rolling the dice"
   ]
  },
  {
   "cell_type": "markdown",
   "id": "60be602a",
   "metadata": {},
   "source": [
    "### Seaborn"
   ]
  },
  {
   "cell_type": "markdown",
   "id": "14499bee",
   "metadata": {},
   "source": [
    "<div class=\"alert alert-block alert-info\">\n",
    "<b>Code:</b> \n",
    "    \n",
    "    import seaborn as sns  \n",
    "    \n",
    "</div>"
   ]
  },
  {
   "cell_type": "markdown",
   "id": "f89cfb40",
   "metadata": {},
   "source": [
    "Seaborn builds on the capabilities of the Matplotlib offering a comprehensive data visualisation library [17]. Its ease of use makes it a popualar tool, allowing for beautiful outputs with very few lines of code. [18]"
   ]
  },
  {
   "cell_type": "code",
   "execution_count": 29,
   "id": "235807aa",
   "metadata": {},
   "outputs": [
    {
     "data": {
      "image/png": "[encoded data removed]",
      "text/plain": [
       "<Figure size 432x288 with 2 Axes>"
      ]
     },
     "metadata": {
      "needs_background": "light"
     },
     "output_type": "display_data"
    }
   ],
   "source": [
    "import seaborn as sns                               # import seaborn - this is the standard import abbreviation\n",
    "\n",
    "randomchoices = np.random.rand(10, 12)              # randomchoices is a variable - comprised of 10*12 random numbers\n",
    "ax = sns.heatmap(randomchoices, cmap=\"YlGnBu\")      # seaborn produce headmap of these random choices in this colour choice\n",
    "\n",
    "# [19] [20] [21]"
   ]
  },
  {
   "cell_type": "markdown",
   "id": "1a7f5aa6",
   "metadata": {},
   "source": [
    "****\n",
    "#### .bytes\n",
    "                             \n",
    "This function will output a list of random bytes.\n",
    "                             \n",
    "                             rng.bytes() \n",
    "\n",
    "Bytes are unit of a measurement of digital information, this function returns a defined amount of bytes - the returned bytes are random piece of digital information. [22] [23] "
   ]
  },
  {
   "cell_type": "code",
   "execution_count": 30,
   "id": "ae2462a6",
   "metadata": {},
   "outputs": [
    {
     "data": {
      "text/plain": [
       "b'\\xbc\\xbfS,\\x1c\\x1aN%\\x00 '"
      ]
     },
     "execution_count": 30,
     "metadata": {},
     "output_type": "execute_result"
    }
   ],
   "source": [
    "np.random.default_rng().bytes(10)   # return 10 random bytes\n",
    "\n",
    "# the outcome here will be random values"
   ]
  },
  {
   "cell_type": "code",
   "execution_count": 31,
   "id": "b74b5c44",
   "metadata": {},
   "outputs": [
    {
     "data": {
      "text/plain": [
       "b'\\xa6\\x0f\\xb46'"
      ]
     },
     "execution_count": 31,
     "metadata": {},
     "output_type": "execute_result"
    }
   ],
   "source": [
    "np.random.default_rng().bytes(4)    # return 4 random bytes"
   ]
  },
  {
   "cell_type": "markdown",
   "id": "9fa5710a",
   "metadata": {},
   "source": [
    "### need more here - what are the possible uses for this?****"
   ]
  },
  {
   "cell_type": "markdown",
   "id": "b227131a",
   "metadata": {},
   "source": [
    "****\n",
    "\n",
    "### Permutations\n",
    "                             \n",
    "****"
   ]
  },
  {
   "cell_type": "markdown",
   "id": "94661b79",
   "metadata": {},
   "source": [
    "Permutation give the user the ability to randomly change the data they are working with.\n",
    "\n",
    "They can change the order of the data using .shuffle or they can take permutations of the data using .permutation\n",
    "\n",
    "This additional ability allows users to transform the data they are using easily and randomly.   [1] [2] [3] [4] [5]"
   ]
  },
  {
   "cell_type": "markdown",
   "id": "f90ba232",
   "metadata": {},
   "source": [
    "****\n",
    "#### .shuffle\n",
    "                             \n",
    "This permutation will shuffle a sequence, giving a random output of the same values but in a different order. [2] [6]\n",
    "                             \n",
    "                             rng.shuffle() \n",
    "\n",
    "In the following code I have provided examples with shuffling an array, please note that .shuffle also operates on lists, dicts, and strings. [7]"
   ]
  },
  {
   "cell_type": "code",
   "execution_count": 32,
   "id": "031bfc3d",
   "metadata": {},
   "outputs": [
    {
     "data": {
      "text/plain": [
       "array([1, 4, 2, 6, 3, 5])"
      ]
     },
     "execution_count": 32,
     "metadata": {},
     "output_type": "execute_result"
    }
   ],
   "source": [
    "arr = np.array([1,2,3,4,5,6])   # make an array of numbers (note: you can also shuffle a list)\n",
    "\n",
    "rng.shuffle(arr)                # shuffle the array\n",
    "\n",
    "arr                             # output is the shuffled array [6]\n",
    "\n",
    "\n",
    "# shuffle will change the orignal array"
   ]
  },
  {
   "cell_type": "markdown",
   "id": "32f442ed",
   "metadata": {},
   "source": [
    "In the above code the output is a shuffled version of the original array - this will change the original array.\n",
    "\n",
    "In the next code box I have shown how to make a copy of the original array and outputted both the original and new versions of the array."
   ]
  },
  {
   "cell_type": "code",
   "execution_count": 33,
   "id": "6ab2fab8",
   "metadata": {},
   "outputs": [
    {
     "name": "stdout",
     "output_type": "stream",
     "text": [
      "This is the original: [1 2 3 4 5 6]\n",
      "This is the shuffled version: [6 2 1 4 3 5]\n"
     ]
    }
   ],
   "source": [
    "seq = np.array([1,2,3,4,5,6])                         # create a seq - array      \n",
    "\n",
    "new_seq = seq.copy()                                  # create a copy called new_seq\n",
    "\n",
    "rng.shuffle(new_seq)                                  # Shuffle the new_seq\n",
    "\n",
    "print(\"This is the original:\", seq)                   # set the output\n",
    "\n",
    "print(\"This is the shuffled version:\", new_seq)       # set the output\n",
    "\n",
    "# Output is that we have kept the original array\n",
    "# We have also outputted a shuffled version of this array [7] [8]"
   ]
  },
  {
   "cell_type": "markdown",
   "id": "91a62f02",
   "metadata": {},
   "source": [
    "Here we will plot the above to outline a visual representation of the shuffle permutation.\n",
    "\n",
    "The original sequence will stay the same, but by using .copy() the new shuffled sequence will change each time this is run.\n",
    "\n",
    "The natural state of the .shuffle is to change the original sequence."
   ]
  },
  {
   "cell_type": "code",
   "execution_count": 34,
   "id": "8b110bd0",
   "metadata": {},
   "outputs": [
    {
     "data": {
      "image/png": "[encoded data removed]",
      "text/plain": [
       "<Figure size 432x288 with 1 Axes>"
      ]
     },
     "metadata": {
      "needs_background": "light"
     },
     "output_type": "display_data"
    }
   ],
   "source": [
    "seq = np.array([100,200,300,400])         # set the first seq\n",
    "\n",
    "new_seq = seq.copy()                      # make a cpoy of the seq\n",
    "\n",
    "rng.shuffle(new_seq)                      # shuffle the new seq\n",
    "\n",
    " \n",
    "n=4                                       # set the parameters for the bars\n",
    "r = np.arange(n)\n",
    "width = 0.25\n",
    "  \n",
    "  \n",
    "plt.bar(r, seq, color = 'b',                    # plot the seq bar - width, color, design, label\n",
    "        width = width, edgecolor = 'black',\n",
    "        label='Seq')\n",
    "plt.bar(r + width, new_seq, color = 'g',        # plot the new seq bar - width, color, design, label\n",
    "        width = width, edgecolor = 'black',\n",
    "        label='new_seq')\n",
    "  \n",
    " \n",
    "plt.xticks(r + width/2, ['Number 1','Number 2','Number 3','Number 4']) # set ticks and labels\n",
    "plt.legend()                                                           # add a legend\n",
    "  \n",
    "plt.show()                                                             # show plot\n",
    "\n",
    "\n",
    "# the output here will be 4 bar in each colour\n",
    "# the output of the first bars (blue and to the left) will remain constant\n",
    "# the output of the second bars (green and to the right) will change each time   [9]"
   ]
  },
  {
   "cell_type": "code",
   "execution_count": 35,
   "id": "7c04dd12",
   "metadata": {},
   "outputs": [
    {
     "name": "stdout",
     "output_type": "stream",
     "text": [
      "This is a shuffled list [5, 3, 1, 4, 2]\n"
     ]
    }
   ],
   "source": [
    "# .shuffle will work on data structures outside of NumPy arrays.\n",
    "# here is .shuffle working on a list\n",
    "\n",
    "a = [1,2,3,4,5]                          # set variable list a\n",
    "rng.shuffle(a)                           # shuffle list\n",
    "\n",
    "print(\"This is a shuffled list\", a)      # print the output\n",
    "\n",
    "# this output will change each time - also the orignal will be changed each time"
   ]
  },
  {
   "cell_type": "code",
   "execution_count": 36,
   "id": "d118443b",
   "metadata": {},
   "outputs": [
    {
     "name": "stdout",
     "output_type": "stream",
     "text": [
      "This is a multi-diamentional array:\n",
      " [[[18 19 20]\n",
      "  [21 22 23]\n",
      "  [24 25 26]]\n",
      "\n",
      " [[ 0  1  2]\n",
      "  [ 3  4  5]\n",
      "  [ 6  7  8]]\n",
      "\n",
      " [[ 9 10 11]\n",
      "  [12 13 14]\n",
      "  [15 16 17]]]\n"
     ]
    }
   ],
   "source": [
    "# .shuffle also works on an numpy array\n",
    "\n",
    "b = np.arange(27).reshape(3,3,3)                   # set a multidemensional array\n",
    "rng.shuffle(b)                                     # shuffle the array\n",
    "\n",
    "print(\"This is a multi-diamentional array:\\n\", b)  # print the output\n",
    "\n",
    "# this output will change each time\n",
    "# the numbers will remain the same but their placement will change each time the code is run [10] [11]"
   ]
  },
  {
   "cell_type": "markdown",
   "id": "80f741a0",
   "metadata": {},
   "source": [
    "****\n",
    "#### .permutation\n",
    "                             \n",
    "Unlike what we have seen with .shuffle, .permutation will make a copy of the data and return a changed output of the data. There is no need for additional code to retain the original data.\n",
    "                             \n",
    "                             rng.permutation() \n",
    "\n",
    "In the following code we will look at how to run this code - the outputs and also its limitations. [12] [13]"
   ]
  },
  {
   "cell_type": "code",
   "execution_count": 37,
   "id": "01fac153",
   "metadata": {},
   "outputs": [
    {
     "data": {
      "text/plain": [
       "array([2, 0, 3, 1])"
      ]
     },
     "execution_count": 37,
     "metadata": {},
     "output_type": "execute_result"
    }
   ],
   "source": [
    "rng.permutation(4)    # random permutation of 0-3\n",
    "\n",
    "# this will output differently each time the code is run"
   ]
  },
  {
   "cell_type": "code",
   "execution_count": 38,
   "id": "bcd22d0b",
   "metadata": {},
   "outputs": [
    {
     "data": {
      "text/plain": [
       "array([2, 0, 1, 3])"
      ]
     },
     "execution_count": 38,
     "metadata": {},
     "output_type": "execute_result"
    }
   ],
   "source": [
    "ex1 = ([0,1,2,3])        # example1 - this is an array\n",
    "\n",
    "rng.permutation(ex1)     # we are going to get a permutation of this arrary \n",
    "\n",
    "# this will output differently each time the code is run"
   ]
  },
  {
   "cell_type": "code",
   "execution_count": 39,
   "id": "5468b162",
   "metadata": {},
   "outputs": [
    {
     "name": "stdout",
     "output_type": "stream",
     "text": [
      "This is a print out of ex1 - it is unchanged:[0, 1, 2, 3]\n"
     ]
    }
   ],
   "source": [
    "print(\"This is a print out of ex1 - it is unchanged:\" + str(ex1)) \n",
    "\n",
    "# running this code will show that the original array has remained the same\n",
    "\n",
    "# you will therefore be able to create the permutation while also keeping the orignal data\n",
    "\n",
    "# unlike .shuffle this is easily achieved"
   ]
  },
  {
   "cell_type": "code",
   "execution_count": 40,
   "id": "c4925b33",
   "metadata": {},
   "outputs": [
    {
     "data": {
      "text/plain": [
       "array([[0, 1, 2, 3],\n",
       "       [0, 1, 2, 3],\n",
       "       [0, 1, 2, 3],\n",
       "       [0, 1, 2, 3]])"
      ]
     },
     "execution_count": 40,
     "metadata": {},
     "output_type": "execute_result"
    }
   ],
   "source": [
    "# we set a variable array [14]\n",
    "\n",
    "ex3 = np.array([[0,1,2,3], [0,1,2,3], [0,1,2,3], [0,1,2,3]])  \n",
    "\n",
    "ex3"
   ]
  },
  {
   "cell_type": "code",
   "execution_count": 41,
   "id": "afe124fe",
   "metadata": {},
   "outputs": [
    {
     "data": {
      "text/plain": [
       "array([[0, 1, 2, 3],\n",
       "       [0, 1, 2, 3],\n",
       "       [0, 1, 2, 3],\n",
       "       [0, 1, 2, 3]])"
      ]
     },
     "execution_count": 41,
     "metadata": {},
     "output_type": "execute_result"
    }
   ],
   "source": [
    "# because of the outlay of this array - permutation does not impact\n",
    "\n",
    "\n",
    "rng.permutation(ex3)   \n",
    "\n",
    "# the output here will be the same"
   ]
  },
  {
   "cell_type": "markdown",
   "id": "22ca2df1",
   "metadata": {},
   "source": [
    "The reason for this is two fold - \n",
    "\n",
    "Firstly the default axis which permutation acts on it the 0 axis\n",
    "\n",
    "You can think of the 0 axis as being the same as rows.\n",
    "\n",
    "The second is the limits of permutation on the array of this kind.  [12] [15]"
   ]
  },
  {
   "cell_type": "code",
   "execution_count": 42,
   "id": "64265913",
   "metadata": {},
   "outputs": [
    {
     "data": {
      "text/plain": [
       "array([[0, 2, 3, 1],\n",
       "       [0, 2, 3, 1],\n",
       "       [0, 2, 3, 1],\n",
       "       [0, 2, 3, 1]])"
      ]
     },
     "execution_count": 42,
     "metadata": {},
     "output_type": "execute_result"
    }
   ],
   "source": [
    "# in this we set the axis as 1\n",
    "# now we are telling .permutation to act on the columns\n",
    "\n",
    "rng.permutation(ex3, axis=1)  \n",
    "\n",
    "# here the output will be a rearranged array"
   ]
  },
  {
   "cell_type": "markdown",
   "id": "e094c2ca",
   "metadata": {},
   "source": [
    "To overcome this limitation there is a third option within the permutation functions.\n",
    "\n",
    "This is .permuted"
   ]
  },
  {
   "cell_type": "markdown",
   "id": "08f0ba1d",
   "metadata": {},
   "source": [
    "****\n",
    "#### .permuted\n",
    "\n",
    ".Permuted allows for the reordering of each part of a data set, and each set is reordered seperately from the others. [16]\n",
    "\n",
    "                             rng.permuted()\n",
    "                             \n",
    "The following code with the same example arrays as with .permutation to show the differences between both functions."
   ]
  },
  {
   "cell_type": "code",
   "execution_count": 43,
   "id": "d0499f59",
   "metadata": {},
   "outputs": [
    {
     "data": {
      "text/plain": [
       "array([[0, 3, 1, 1],\n",
       "       [2, 0, 2, 2],\n",
       "       [0, 0, 2, 3],\n",
       "       [1, 3, 1, 3]])"
      ]
     },
     "execution_count": 43,
     "metadata": {},
     "output_type": "execute_result"
    }
   ],
   "source": [
    "rng.permuted(ex3)\n",
    "\n",
    "# the output will be a completely changed array\n",
    "# when no axis is stipulated the \"flattened arry is shuffled\""
   ]
  },
  {
   "cell_type": "code",
   "execution_count": 44,
   "id": "cbb79fde",
   "metadata": {},
   "outputs": [
    {
     "data": {
      "text/plain": [
       "array([[0, 3, 2, 1],\n",
       "       [2, 0, 3, 1],\n",
       "       [1, 3, 0, 2],\n",
       "       [2, 1, 3, 0]])"
      ]
     },
     "execution_count": 44,
     "metadata": {},
     "output_type": "execute_result"
    }
   ],
   "source": [
    "rng.permuted(ex3, axis=1)\n",
    "\n",
    "# the output is that each row in the array is shuffled independantly of the other\n",
    "# the axis choosen and each row is changed in the output"
   ]
  },
  {
   "cell_type": "markdown",
   "id": "a0e089e3",
   "metadata": {},
   "source": [
    "<a id=\"distributions\"></a>"
   ]
  },
  {
   "cell_type": "markdown",
   "id": "2a708b9b",
   "metadata": {},
   "source": [
    "----\n",
    "\n",
    "### Distributions\n",
    "\n",
    "----"
   ]
  },
  {
   "cell_type": "markdown",
   "id": "aff027d3",
   "metadata": {},
   "source": [
    "Where simple random data provides random samples of data within the parameters we set, and permutations can change the order of data, distributions offer the ability to produce data that follows various probability distributions.\n",
    "\n",
    "Probability distributions are mathmatical formula which outline the probability of certain outcomes; "
   ]
  },
  {
   "cell_type": "markdown",
   "id": "b11d4d28",
   "metadata": {},
   "source": [
    "#### As outlined in Investopedia:\n",
    "\n",
    "-------\n",
    "\n",
    "\"A probability distribution is a statistical function that describes all the possible values and likelihoods that a random variable can take within a given range.\" [1]\n",
    "\n",
    "-----"
   ]
  },
  {
   "cell_type": "markdown",
   "id": "0c9aca82",
   "metadata": {},
   "source": [
    "Distributions can be discrete or continuous - in these cases the outcome can present as either an number of set variables or an infinate list of outcomes .[2]\n",
    "\n",
    "In this section we will review the following distributions:\n",
    "\n",
    "> normal (Gaussian)\n",
    "\n",
    "> uniform\n",
    ">\n",
    ">\n",
    "\n",
    "\n",
    "From this you will have an overview of their purpose, their practical uses and plotted distributions. \n",
    "\n",
    "Note that there are 36 distibutions listed in the NumPy [documentation](https://numpy.org/doc/stable/reference/random/generator.html), here we are providing an overview of just some of the options available to you."
   ]
  },
  {
   "cell_type": "markdown",
   "id": "02385c33",
   "metadata": {},
   "source": [
    "****\n",
    "#### .normal (Gaussian)\n",
    "                             \n",
    "This is a distribution based on the mean, it is a symmetrical curve when plotted and forms a Bell Shape. This a common occurance in nature. It is a continuous Probability distribution. [2]\n",
    "                             \n",
    "                             rng.normal(loc, scale, size)\n",
    "\n",
    "In NumPy, when we call this function, we will be given data that forms a normal distribution curve, to get this we will need to provide the loc, scale and the size. [3][4][5]\n",
    "\n",
    "- loc = mean\n",
    "- Scale = standard deviation ( measure of how far from the mean ) [6]\n",
    "- Size = the shape of the bell curve "
   ]
  },
  {
   "attachments": {
    "normal.dist.formula.JPG": {
     "image/jpeg": "[encoded data removed]"
    }
   },
   "cell_type": "markdown",
   "id": "e0436e13",
   "metadata": {},
   "source": [
    "![normal.dist.formula.JPG](attachment:normal.dist.formula.JPG)"
   ]
  },
  {
   "cell_type": "markdown",
   "id": "b2f04a78",
   "metadata": {},
   "source": [
    "                                                                                                                    [7]"
   ]
  },
  {
   "cell_type": "code",
   "execution_count": 45,
   "id": "b5c7c85f",
   "metadata": {},
   "outputs": [
    {
     "data": {
      "text/plain": [
       "array([[ 0.26035094,  1.60252735,  2.18259736,  3.54764412,  0.78402691],\n",
       "       [ 0.90247769,  0.5428668 , -1.58479197,  2.84494401,  3.21729732],\n",
       "       [ 2.70064761,  3.63300897, -1.21361618,  2.10242536,  0.4223547 ],\n",
       "       [ 0.3104676 ,  3.10549151,  3.64554451,  4.45401395,  1.75059799]])"
      ]
     },
     "execution_count": 45,
     "metadata": {},
     "output_type": "execute_result"
    }
   ],
   "source": [
    "# this code will use the random normal function to output random data\n",
    "# this data will comply this normal distribution\n",
    "\n",
    "rng.normal(loc=2, scale=2, size=(4,5))     # random.normal loc 2 / scale 2 / size 4 * 5    [8][9][10]"
   ]
  },
  {
   "cell_type": "code",
   "execution_count": 46,
   "id": "9036bd03",
   "metadata": {},
   "outputs": [
    {
     "data": {
      "text/plain": [
       "<seaborn.axisgrid.FacetGrid at 0x1f4636955e0>"
      ]
     },
     "execution_count": 46,
     "metadata": {},
     "output_type": "execute_result"
    },
    {
     "data": {
      "image/png": "[encoded data removed]",
      "text/plain": [
       "<Figure size 402.375x360 with 1 Axes>"
      ]
     },
     "metadata": {
      "needs_background": "light"
     },
     "output_type": "display_data"
    }
   ],
   "source": [
    "# we will now plot this data to visualise the outputs\n",
    "\n",
    "a = rng.normal(2, 2, size=(4,5))    # random.normal loc 2 / scale 2 / size 4 * 5\n",
    "\n",
    "sns.displot(a, kind='kde')          # plot seaborn displot( normal data, kind - lines)\n",
    "\n",
    "# each line will be a different row of he array\n",
    "# while each line is different - they follow a similiar bell shape\n",
    "# some line will plot close to 0 and will be taller\n",
    "# other lines will have a larger spread of data and will be lower in shape"
   ]
  },
  {
   "cell_type": "code",
   "execution_count": 47,
   "id": "b0188096",
   "metadata": {},
   "outputs": [
    {
     "data": {
      "text/plain": [
       "<seaborn.axisgrid.FacetGrid at 0x1f463776370>"
      ]
     },
     "execution_count": 47,
     "metadata": {},
     "output_type": "execute_result"
    },
    {
     "data": {
      "image/png": "[encoded data removed]",
      "text/plain": [
       "<Figure size 360x360 with 1 Axes>"
      ]
     },
     "metadata": {
      "needs_background": "light"
     },
     "output_type": "display_data"
    }
   ],
   "source": [
    "# with this code you will look at one single line\n",
    "\n",
    "b = rng.normal(2, 2, size=(5))   # random.normal loc 2 / scale 2 / size 5\n",
    "\n",
    "sns.displot(b, kind='kde')       # plot seaborn displot( normal data, kind - lines)"
   ]
  },
  {
   "cell_type": "code",
   "execution_count": 48,
   "id": "523bfeea",
   "metadata": {},
   "outputs": [
    {
     "data": {
      "text/plain": [
       "<seaborn.axisgrid.FacetGrid at 0x1f4636af280>"
      ]
     },
     "execution_count": 48,
     "metadata": {},
     "output_type": "execute_result"
    },
    {
     "data": {
      "image/png": "[encoded data removed]",
      "text/plain": [
       "<Figure size 360x360 with 1 Axes>"
      ]
     },
     "metadata": {
      "needs_background": "light"
     },
     "output_type": "display_data"
    }
   ],
   "source": [
    "# to give a larger example of this process in this graph we will plot a large volume of data\n",
    "\n",
    "x = rng.normal(size=10000)   # random.normal loc 0 / scale 0 / size 10000 data points\n",
    "\n",
    "sns.displot(x)               # plot seaborn dis plot - plots bars instead of lines"
   ]
  },
  {
   "cell_type": "markdown",
   "id": "0ab062ec",
   "metadata": {},
   "source": [
    "The uses for this probability distribution are multiple; it is the most widely used distribution. \n",
    "\n",
    "The normal distribution can be used to outline natural occurances, this ability is linked to the fact the data centers around the mean - the data clusters with excessive values either side of the mean being rare. [10] [11] [12]\n"
   ]
  },
  {
   "cell_type": "markdown",
   "id": "d722b25f",
   "metadata": {},
   "source": [
    "                        \"Even if you're not normal, the average is normal\"[4]"
   ]
  },
  {
   "cell_type": "markdown",
   "id": "ac2da83e",
   "metadata": {},
   "source": [
    "Uses:\n",
    "- Measuring of Human characteristics\n",
    " - height\n",
    " - weight\n",
    " - blood type \n",
    "\n",
    "- Education Scores\n",
    "\n",
    "- Errors\n",
    "\n",
    "[12] [13] [14]\n",
    "\n",
    "-----"
   ]
  },
  {
   "cell_type": "markdown",
   "id": "11b05fee",
   "metadata": {},
   "source": [
    "****\n",
    "#### .uniform\n",
    "                             \n",
    "text\n",
    "                             \n",
    "                             rng().uniform(loc, scale, size)\n",
    "\n",
    "text\n",
    "\n",
    "- loc = mean\n",
    "- Scale = standard deviation ( measure of how far from the mean ) [4]\n",
    "- Size = the shape of the bell curve "
   ]
  },
  {
   "cell_type": "code",
   "execution_count": null,
   "id": "4ce9c491",
   "metadata": {},
   "outputs": [],
   "source": []
  },
  {
   "cell_type": "code",
   "execution_count": null,
   "id": "645c869f",
   "metadata": {},
   "outputs": [],
   "source": []
  },
  {
   "cell_type": "code",
   "execution_count": null,
   "id": "4b3aca31",
   "metadata": {},
   "outputs": [],
   "source": []
  },
  {
   "cell_type": "code",
   "execution_count": null,
   "id": "e550decd",
   "metadata": {},
   "outputs": [],
   "source": []
  },
  {
   "cell_type": "code",
   "execution_count": null,
   "id": "13b48019",
   "metadata": {},
   "outputs": [],
   "source": []
  },
  {
   "cell_type": "code",
   "execution_count": null,
   "id": "83d7eb62",
   "metadata": {},
   "outputs": [],
   "source": []
  },
  {
   "cell_type": "code",
   "execution_count": null,
   "id": "0144cfca",
   "metadata": {},
   "outputs": [],
   "source": []
  },
  {
   "cell_type": "code",
   "execution_count": null,
   "id": "93dd674b",
   "metadata": {},
   "outputs": [],
   "source": []
  },
  {
   "cell_type": "markdown",
   "id": "c3dbc1dc",
   "metadata": {},
   "source": [
    "### References\n",
    "\n",
    "#### NumPy\n",
    "[1] Youtube, Amulya's Academy, Introduction to Numpy Library (13th Jul, 2019) https://www.youtube.com/watch?v=hSquw6JGsLM&list=PLzgPDYo_3xunqaoZnnTaoka2R6psn5u2T&index=194\n",
    "\n",
    "[2] Youtube, I am biomed, What is Numpy? Python for Data Science Tutorial (16th April, 2016) https://www.youtube.com/watch?v=pP5dQG0foTs\n",
    "\n",
    "[3] Medium, Farhad Malik, Why should we use NumpPy? (31st March, 2019) https://medium.com/fintechexplained/why-should-we-use-numpy-c14a4fb03ee9\n",
    "\n",
    "[4] NumPy.org, Installing Numpy, (No Date)https://numpy.org/install/\n",
    "\n",
    "[5] W3 Schools, Numpy Getting Started (1999 - 2021) https://www.w3schools.com/python/numpy/numpy_getting_started.asp\n",
    "\n",
    "[6] Ask Python, How to append an Array in Python? (No Date) https://www.askpython.com/python/array/append-an-array-in-python\n",
    "\n",
    "[7] Kite, How to multiply two lits in Python, (no date) https://www.kite.com/python/answers/how-to-multiply-two-lists-in-python\n",
    "\n",
    "[8] Geeks for Geeks, Python - Multiply Two List (27th Dec, 2019) https://www.geeksforgeeks.org/python-multiply-two-list/\n",
    "\n",
    "#### NumPy Random\n",
    "[1] Great Learning, What is NumPy in Python, (28th May, 2021) https://www.mygreatlearning.com/blog/python-numpy-tutorial/ \n",
    "\n",
    "[2] Angela C, Explain the overall purpose of the package numpy.random (2021)\n",
    " https://www.angela1c.com/projects/numpy-random-files/task1/\n",
    " \n",
    "[3] W3Schools, Random Numbers in NumPy, (1999 – 2021 ) https://www.w3schools.com/python/numpy/numpy_random.asp \n",
    "\n",
    "[4] NumPy, Random Generator, (22nd June, 2021) https://numpy.org/doc/stable/reference/random/generator.html#numpy.random.Generator \n",
    "\n",
    "[5] Towards Data Science, What does Random.seed do in NumPy, (27th Sept, 2021) https://towardsdatascience.com/random-seed-numpy-786cf7876a5f \n",
    "\n",
    "[6] Towards Data Science, Random Number in NumPy, (8th March, 2021) https://towardsdatascience.com/random-numbers-in-numpy-89172d6eac16\n",
    "\n",
    "[7] Youtube, Koolac, numpy.random.default_rng() and numpy.random.seed() in Python programming language (3rd OCt, 2020) https://www.youtube.com/watch?v=ryvY3RJucag \n",
    "\n",
    "\n",
    "#### Simple Random Data\n",
    "\n",
    "[1] Youtube, NumPy Random ALL EXPLAINED, (9th July, 2021) https://www.youtube.com/watch?v=uhP7_Of5WX8\n",
    "\n",
    "[2] NumPy, Random Generator (22nd June, 2021) https://numpy.org/doc/stable/reference/random/generator.html#numpy.random.Generator\n",
    "\n",
    "[3] Numpy, numpy.random.generator.integers (22nd June, 2021) https://numpy.org/doc/stable/reference/random/generated/numpy.random.Generator.integers.html#numpy.random.Generator.integers\n",
    "\n",
    "[4] Machine Learning Mastery, How to generate Random Numbers in Python (4th Sept, 2020)https://machinelearningmastery.com/how-to-generate-random-numbers-in-python/\n",
    "\n",
    "[5] NumPy, Data type objects (dtype), (22nd June, 2021) https://numpy.org/doc/stable/reference/arrays.dtypes.html\n",
    "\n",
    "[6] Metplotlib, Pyplot tutorial, (13th Aug, 20201) https://matplotlib.org/stable/tutorials/introductory/pyplot.html\n",
    "\n",
    "[7] NumPy,nupy.random.generator.random, (22nd June, 2021) https://numpy.org/doc/stable/reference/random/generated/numpy.random.Generator.random.html#numpy.random.Generator.random\n",
    "\n",
    "[8] PythonGuides.com, Python NumPy Random [30 examples] (9th Sept, 2021) https://pythonguides.com/python-numpy-random/\n",
    "\n",
    "[9] Studytonight.com, creating random valued arrays in NumPy, (11th Aug, 2021) https://www.studytonight.com/post/creating-random-valuedarrays-in-numpy\n",
    "\n",
    "[10] NumPy, numpy.ndarray, (22nd June, 2021) https://numpy.org/doc/stable/reference/generated/numpy.ndarray.html\n",
    "\n",
    "[11] Machines Learning Mastery, Gentle Indroductions n dimentionsal arrays python numpy (31st Jan, 2018) https://machinelearningmastery.com/gentle-introduction-n-dimensional-arrays-python-numpy/\n",
    "\n",
    "[12] Matplotlib, Scatterplot, (13th Aug, 2021) https://matplotlib.org/stable/gallery/shapes_and_collections/scatter.html\n",
    "\n",
    "[13] NumPy, numpy.random.generator.choice, (22nd June, 2021) https://numpy.org/doc/stable/reference/random/generated/numpy.random.Generator.choice.html#numpy.random.Generator.choice\n",
    "\n",
    "[14] w3schools, Python Random choice() method, (1999 - 2021) https://www.w3schools.com/python/ref_random_choice.asp\n",
    "\n",
    "[15] Stackoverflow, How do I randomly select an item from a list (2010) https://stackoverflow.com/questions/306400/how-can-i-randomly-select-an-item-from-a-list \n",
    "\n",
    "[16] Stackoverflow, random.choice() takes two argments? (2017) https://stackoverflow.com/questions/43388840/random-choice-takes-two-arguments\n",
    "\n",
    "[17] Analytics Vidhya, Become a Data Visualization Whiz with this Comprehensive Guide to Seaborn in Python (30th Sept, 2019) https://www.analyticsvidhya.com/blog/2019/09/comprehensive-data-visualization-guide-seaborn-python/\n",
    "\n",
    "[18] Towards data Science, Seaborn: Python, (11th Aug, 2021) https://towardsdatascience.com/seaborn-python-8563c3d0ad41\n",
    "\n",
    "[19] Seaborn, seaborn.heatmap (2012 – 2021) https://seaborn.pydata.org/generated/seaborn.heatmap.html\n",
    "\n",
    "[20] Wolfram, RandomChoice, (2021) https://reference.wolfram.com/language/ref/RandomChoice.html\n",
    "\n",
    "[21] Wolfram, Array Plot, (2021) https://reference.wolfram.com/language/ref/ArrayPlot.html\n",
    "\n",
    "[22] NumPy, numpy.random.generator.bytes (22nd June 2021) https://numpy.org/doc/stable/reference/random/generated/numpy.random.Generator.bytes.html#numpy.random.Generator.bytes\n",
    "\n",
    "[23] Wikipedia, Byte ( 15th Nov, 2021) https://en.wikipedia.org/wiki/Byte \n",
    "\n",
    "[23] Geeks for Geeks, Random bytes ()function (27th Dec, 2019) https://www.geeksforgeeks.org/ruby-random-bytes-function/\n",
    "\n",
    "\n",
    "\n",
    "#### Permutations\n",
    "\n",
    "[1] Numpy, Random Generator, (22nd June, 2021) https://numpy.org/doc/stable/reference/random/generator.html#numpy.random.Generator \n",
    "\n",
    "[2]  Numpy, numpy.random.generator.shuffle, (22nd June, 2021) https://numpy.org/doc/stable/reference/random/generated/numpy.random.Generator.shuffle.html#numpy.random.Generator.shuffle \n",
    "\n",
    "[3] Numpy, numpy.random.generator.permutation (22nd June, 2021) https://numpy.org/doc/stable/reference/random/generated/numpy.random.Generator.permutation.html#numpy.random.Generator.permutation \n",
    "\n",
    "[4] Merriam-webster, permute (No Date) https://www.merriam-webster.com/dictionary/permute \n",
    "\n",
    "[5] Thesaurus.com, permutation (No Date)  https://www.thesaurus.com/browse/permutation \n",
    "\n",
    "[6] w3schools, Random Permutations (1999 - 2021) https://www.w3schools.com/python/numpy/numpy_random_permutation.asp \n",
    "\n",
    "[7] PYnative, Python Programming, Python random.shuffle() functions to shuffle list, (16th June, 2021) https://pynative.com/python-random-shuffle/ \n",
    "\n",
    "[8] GeeksforGeeks.org, Array Copying in Python, (11th Aug, 2021) https://www.geeksforgeeks.org/array-copying-in-python/ \n",
    "\n",
    "[9] GeeksforGeeks.org, Plotting multiple bar charts using Matplotlib in Python, (25th Feb, 2021) https://www.geeksforgeeks.org/plotting-multiple-bar-charts-using-matplotlib-in-python/ \n",
    "\n",
    "[10] Stack Overview, How to randomly shuffle data and target in python? (2016)\n",
    " https://stackoverflow.com/questions/35076223/how-to-randomly-shuffle-data-and-target-in-python\n",
    " \n",
    "[11] Moonbooks, How to randomly shuffle an array in python using numpy, (24th May, 2018) https://moonbooks.org/Articles/How-to-randomly-shuffle-an-array-in-python-using-numpy/\n",
    "\n",
    "[12] Numpy, numpy.random.Generator.permutation, (22nd June, 2021)\n",
    "https://numpy.org/doc/stable/reference/random/generated/numpy.random.Generator.permutation.html#numpy.random.Generator.permutation\n",
    "\n",
    "[13] Python Pool, Numpy Permutation() | How to use np.random.permutation() (14th June, 2021) \n",
    "https://www.pythonpool.com/numpy-random-permutation/\n",
    "\n",
    "[14] W3 Schools, NumPy Creating Arrays, (1999 – 2021) https://www.w3schools.com/python/numpy/numpy_creating_arrays.asp\n",
    "\n",
    "[15] Sharp Sight, NumPy axes explained (10th Dec, 2018) https://www.sharpsightlabs.com/blog/numpy-axes-explained/\n",
    "\n",
    "[16] NumPy, numpy.random.Generator.permuted (22nd June, 2021) https://numpy.org/doc/stable/reference/random/generated/numpy.random.Generator.permuted.html#numpy-random-generator-permuted \n",
    "\n",
    "##### Distributions\n",
    "\n",
    "[1] Investopedia, Probability Distribution, (29th Oct, 2020) https://www.investopedia.com/terms/p/probabilitydistribution.asp\n",
    "\n",
    "[2] Dummies, Differentiate between discrete and continuous probability distributions (2021) https://www.dummies.com/education/math/business-statistics/differentiate-between-discrete-and-continuous-probability-distributions/  \n",
    "\n",
    "Normal\n",
    "\n",
    "[3] Numpy,  numpy.random.Generator.normal, (June 22nd, 2021) \n",
    "https://numpy.org/doc/stable/reference/random/generated/numpy.random.Generator.normal.html#numpy.random.Generator.normal\n",
    "\n",
    "[4] Youtube, Statquest, The Normal Distributions, clearly explained!!! (9th Oct, 2017) https://www.youtube.com/watch?v=rzFX5NWojp0 \n",
    "\n",
    "[5] Sharp Sight Labs, How to use numpy random normal in python, (7th Jan, 2019) https://www.sharpsightlabs.com/blog/numpy-random-normal/ \n",
    "\n",
    "[6] Math is fun, Standard Deviation and Variance, (2021) https://www.mathsisfun.com/data/standard-deviation.html\n",
    "\n",
    "[7] Briannica, Normal Distribution, (22nd April, 2021) https://www.britannica.com/topic/normal-distribution \n",
    "\n",
    "[8] Statology, How to plot a normal distribution in Seaborn (12th Nov, 2021) https://www.statology.org/seaborn-normal-distribution/ \n",
    "\n",
    "[9] Seaborn,  seaborn.displot, ( 2012 – 2021)       https://seaborn.pydata.org/generated/seaborn.displot.html?highlight=displot#seaborn.displot \n",
    "\n",
    "[10] W3Schools, Normal (Gaussian) Distributions, (1999 – 2021) https://www.w3schools.com/python/numpy/numpy_random_normal.asp \n",
    "\n",
    "[11] The University of Notre Dame, Richard Williams – Normal Distribution, (2nd Sept, 2004), https://www3.nd.edu/~rwilliam/stats1/x21.pdf \n",
    "\n",
    "[12] Statisticsbyjim.com, Normal Distribution in Statistics ( No Date) https://statisticsbyjim.com/basics/normal-distribution/ \n",
    "\n",
    "[13] Towards Data Science, Before Probability Distributions, (16th Mar, 2020) https://towardsdatascience.com/before-probability-distributions-d8a2f36b1cb\n",
    "\n",
    "[14] Medium, Ever Wondered Why Normal Distributions is so Important, (20th Jun, 2020) https://medium.com/fintechexplained/ever-wondered-why-normal-distribution-is-so-important-110a482abee3 \n",
    "\n",
    "\n",
    "\n",
    "##### uniform\n",
    "[2] Youtube, Python Tutoral; Generate Random Numbers and Data using the random module, (29th Aug, 2021) https://www.youtube.com/watch?v=KzqSDvzOFNA\n"
   ]
  },
  {
   "cell_type": "markdown",
   "id": "617fa5e0",
   "metadata": {},
   "source": [
    "\n"
   ]
  }
 ],
 "metadata": {
  "kernelspec": {
   "display_name": "Python 3",
   "language": "python",
   "name": "python3"
  },
  "language_info": {
   "codemirror_mode": {
    "name": "ipython",
    "version": 3
   },
   "file_extension": ".py",
   "mimetype": "text/x-python",
   "name": "python",
   "nbconvert_exporter": "python",
   "pygments_lexer": "ipython3",
   "version": "3.8.8"
  }
 },
 "nbformat": 4,
 "nbformat_minor": 5
}
