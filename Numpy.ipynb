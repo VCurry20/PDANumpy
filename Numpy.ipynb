{
 "cells": [
  {
   "cell_type": "markdown",
   "id": "09b99f47-2139-4bcb-817b-5146843d9bae",
   "metadata": {},
   "source": [
    "# NumPy\n",
    "\n",
    "Project giving overview of NumPy, especially the numpy.random package\n",
    "\n",
    "Author: Veronica Curry\n",
    "\n",
    "Student ID: G00074924\n",
    "\n",
    "****\n",
    "\n",
    "\n",
    "This project includes the following:\n",
    "\n",
    "> Overall Purpose of numpy.random\n",
    "\n",
    "> Explaination of 'Simple Random Data' & 'Permutations'\n",
    "\n",
    "> Use and Purpose of at least 5 'Distributions' functions\n",
    "\n",
    "> The use of seeds in generating pseudorandom numbers\n",
    "\n",
    "\n",
    "****\n"
   ]
  },
  {
   "cell_type": "markdown",
   "id": "c433c1d8",
   "metadata": {},
   "source": [
    "### NumPy\n",
    "\n",
    "****\n",
    "NumPy is, at its most basic, numerical python.\n",
    "\n",
    "It is a library that expands on the numerical capabilities of python and also acts as a basis for further numerical packages such as pandas or matplotlib [1]\n",
    "\n",
    "NumPy's strength lies in it's abiliity to provide a step up from Python's lists, by using arrays NumPy allows for easier, faster and more efficent manipulation of data. [2]\n",
    "\n",
    "For a full overview of the many way in which arrays can be created and written please review this [page](https://medium.com/fintechexplained/why-should-we-use-numpy-c14a4fb03ee9) .[3]\n",
    "\n",
    "As an extension of Python, it is installed as part of Anaconda, and can be imported simply using an alias. [4] [5]\n",
    "\n",
    "\n",
    "\n"
   ]
  },
  {
   "cell_type": "code",
   "execution_count": 1,
   "id": "f2225be8",
   "metadata": {},
   "outputs": [],
   "source": [
    "import numpy as np     # import the numpy package - this is the standard import abbreviation"
   ]
  },
  {
   "cell_type": "markdown",
   "id": "72f93506",
   "metadata": {},
   "source": [
    "This section of code will just provide a simple outline of the difference between lists and arrays   "
   ]
  },
  {
   "cell_type": "code",
   "execution_count": 2,
   "id": "7201bfba",
   "metadata": {},
   "outputs": [
    {
     "data": {
      "text/plain": [
       "[1, 2, 3, 3, 4, 5]"
      ]
     },
     "execution_count": 2,
     "metadata": {},
     "output_type": "execute_result"
    }
   ],
   "source": [
    "# Lists\n",
    "\n",
    "list1 = [1,2,3]\n",
    "list2 = [3,4,5]\n",
    "\n",
    "list1 + list2"
   ]
  },
  {
   "cell_type": "code",
   "execution_count": 3,
   "id": "5c8e1bbd",
   "metadata": {},
   "outputs": [
    {
     "data": {
      "text/plain": [
       "array([4, 6, 8])"
      ]
     },
     "execution_count": 3,
     "metadata": {},
     "output_type": "execute_result"
    }
   ],
   "source": [
    "# arrays\n",
    "\n",
    "array1 = np.array([1,2,3])\n",
    "array2 = np.array([3,4,5])\n",
    "\n",
    "array1 + array2"
   ]
  },
  {
   "cell_type": "markdown",
   "id": "75245d70",
   "metadata": {},
   "source": [
    "The differences and power of Numpy becomes more apparent when you multiply lists [6]"
   ]
  },
  {
   "cell_type": "code",
   "execution_count": 4,
   "id": "4c0dcfed",
   "metadata": {},
   "outputs": [
    {
     "name": "stdout",
     "output_type": "stream",
     "text": [
      "List1 multiplied by list2 is:[3, 8, 15]\n"
     ]
    }
   ],
   "source": [
    "# Lists \n",
    "# [7] \n",
    "\n",
    "list1 = [1,2,3]\n",
    "list2 = [3,4,5]\n",
    "\n",
    "listbylist = []\n",
    "for i in range(0, len(list1)):\n",
    "    listbylist.append(list1[i] * list2[i])\n",
    "\n",
    "print(\"List1 multiplied by list2 is:\" + str(listbylist))\n"
   ]
  },
  {
   "cell_type": "code",
   "execution_count": 5,
   "id": "fc271948",
   "metadata": {},
   "outputs": [
    {
     "data": {
      "text/plain": [
       "array([ 3,  8, 15])"
      ]
     },
     "execution_count": 5,
     "metadata": {},
     "output_type": "execute_result"
    }
   ],
   "source": [
    "# arrays\n",
    "\n",
    "array1 = np.array([1,2,3])\n",
    "array2 = np.array([3,4,5])\n",
    "\n",
    "array1 * array2"
   ]
  },
  {
   "cell_type": "markdown",
   "id": "c63a4625",
   "metadata": {},
   "source": [
    "*****\n",
    "\n",
    "### NumPy Random\n",
    "\n",
    "****"
   ]
  },
  {
   "cell_type": "code",
   "execution_count": null,
   "id": "e2b17365",
   "metadata": {},
   "outputs": [],
   "source": []
  },
  {
   "cell_type": "code",
   "execution_count": null,
   "id": "8fa59358",
   "metadata": {},
   "outputs": [],
   "source": []
  },
  {
   "cell_type": "code",
   "execution_count": null,
   "id": "7f54bff6",
   "metadata": {},
   "outputs": [],
   "source": []
  },
  {
   "cell_type": "markdown",
   "id": "c3dbc1dc",
   "metadata": {},
   "source": [
    "### References\n",
    "\n",
    "#### NumPy\n",
    "[1] Youtube, Amulya's Academy, Introduction to Numpy Library (13th Jul, 2019) https://www.youtube.com/watch?v=hSquw6JGsLM&list=PLzgPDYo_3xunqaoZnnTaoka2R6psn5u2T&index=194\n",
    "\n",
    "[2] Youtube, I am biomed, What is Numpy? Python for Data Science Tutorial (16th April, 2016) https://www.youtube.com/watch?v=pP5dQG0foTs\n",
    "\n",
    "[3] Medium, Farhad Malik, Why should we use NumpPy? (31st March, 2019) https://medium.com/fintechexplained/why-should-we-use-numpy-c14a4fb03ee9\n",
    "\n",
    "[4] NumPy.org, Installing Numpy, (No Date)https://numpy.org/install/\n",
    "\n",
    "[5] W3 Schools, Numpy Getting Started (1999 - 2021) https://www.w3schools.com/python/numpy/numpy_getting_started.asp\n",
    "\n",
    "[6] Kite, How to multiply two lits in Python, (no date) https://www.kite.com/python/answers/how-to-multiply-two-lists-in-python\n",
    "\n",
    "[7] Geeks for Geeks, Python - Multiply Two List (27th Dec, 2019) https://www.geeksforgeeks.org/python-multiply-two-list/\n",
    "\n",
    "#### NumPy Random\n",
    "[1]\n"
   ]
  },
  {
   "cell_type": "markdown",
   "id": "617fa5e0",
   "metadata": {},
   "source": [
    "\n"
   ]
  }
 ],
 "metadata": {
  "kernelspec": {
   "display_name": "Python 3",
   "language": "python",
   "name": "python3"
  },
  "language_info": {
   "codemirror_mode": {
    "name": "ipython",
    "version": 3
   },
   "file_extension": ".py",
   "mimetype": "text/x-python",
   "name": "python",
   "nbconvert_exporter": "python",
   "pygments_lexer": "ipython3",
   "version": "3.8.8"
  }
 },
 "nbformat": 4,
 "nbformat_minor": 5
}
