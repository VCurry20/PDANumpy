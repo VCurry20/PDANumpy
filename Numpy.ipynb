{
 "cells": [
  {
   "cell_type": "markdown",
   "id": "09b99f47-2139-4bcb-817b-5146843d9bae",
   "metadata": {},
   "source": [
    "# NumPy\n",
    "\n",
    "Project giving overview of NumPy, especially the numpy.random package\n",
    "\n",
    "Author: Veronica Curry\n",
    "\n",
    "Student ID: G00074924\n",
    "\n",
    "****\n",
    "\n",
    "\n",
    "This project includes the following:\n",
    "\n",
    "> Overall Purpose of numpy.random\n",
    "\n",
    "> Explaination of 'Simple Random Data' & 'Permutations'\n",
    "\n",
    "> Use and Purpose of at least 5 'Distributions' functions\n",
    "\n",
    "> The use of seeds in generating pseudorandom numbers\n",
    "\n",
    "\n",
    "****\n"
   ]
  },
  {
   "cell_type": "markdown",
   "id": "0a0d0765",
   "metadata": {},
   "source": [
    "### NumPy\n",
    "\n",
    "****"
   ]
  },
  {
   "cell_type": "markdown",
   "id": "cf51c088",
   "metadata": {},
   "source": [
    "<div class=\"alert alert-block alert-info\">\n",
    "<b>Code:</b> \n",
    "    \n",
    "    import numpy as np\n",
    "    \n",
    "</div>"
   ]
  },
  {
   "cell_type": "markdown",
   "id": "c433c1d8",
   "metadata": {},
   "source": [
    "NumPy is, at its most basic, numerical python.\n",
    "\n",
    "It is a library that expands on the numerical capabilities of python and also acts as a basis for further numerical packages such as pandas or matplotlib [1]\n",
    "\n",
    "NumPy's strength lies in it's abiliity to provide a step up from Python's lists, using arrays NumPy allows for easier, faster and more efficent manipulation of data. [2]\n",
    "\n",
    "Arrays can be multi-dimensional or matrices. For a full overview of the many way in which arrays can be created and written please review this [page](https://medium.com/fintechexplained/why-should-we-use-numpy-c14a4fb03ee9) .[3]\n",
    "\n",
    "As an extension of Python, NumPy is installed as part of Anaconda, and can be imported simply using an alias. [4] [5]\n"
   ]
  },
  {
   "cell_type": "code",
   "execution_count": 1,
   "id": "6b5ea312",
   "metadata": {},
   "outputs": [],
   "source": [
    "import numpy as np     # import the numpy package - this is the standard import abbreviation"
   ]
  },
  {
   "cell_type": "markdown",
   "id": "72f93506",
   "metadata": {},
   "source": [
    "This section of code will just provide a simple outline of the difference between lists and arrays. \n",
    "\n",
    "In the first sets of code you will clearly see the difference between simply adding two lists verses adding two arrays.\n",
    "\n",
    "Lists will simply add the contents of both lists to a new list, where arrarys allow you to complete mathimatical processes on their contents. \n",
    "\n",
    "It should be noted that by using the append function we can also add the contents of an array to the contents of another array. Numpy offers you both options depending on your requirements. [6]"
   ]
  },
  {
   "cell_type": "code",
   "execution_count": 2,
   "id": "7201bfba",
   "metadata": {},
   "outputs": [
    {
     "data": {
      "text/plain": [
       "[1, 2, 3, 3, 4, 5]"
      ]
     },
     "execution_count": 2,
     "metadata": {},
     "output_type": "execute_result"
    }
   ],
   "source": [
    "# Lists\n",
    "\n",
    "list1 = [1,2,3]\n",
    "list2 = [3,4,5]\n",
    "\n",
    "list1 + list2"
   ]
  },
  {
   "cell_type": "code",
   "execution_count": 3,
   "id": "5c8e1bbd",
   "metadata": {},
   "outputs": [
    {
     "data": {
      "text/plain": [
       "array([4, 6, 8])"
      ]
     },
     "execution_count": 3,
     "metadata": {},
     "output_type": "execute_result"
    }
   ],
   "source": [
    "# arrays\n",
    "\n",
    "array1 = np.array([1,2,3])\n",
    "array2 = np.array([3,4,5])\n",
    "\n",
    "array1 + array2"
   ]
  },
  {
   "cell_type": "markdown",
   "id": "75245d70",
   "metadata": {},
   "source": [
    "The differences and power of Numpy becomes more apparent when you multiply lists [7]\n",
    "\n",
    "The code required to complete this action is much cleaner and simplier when using arrays. [8]"
   ]
  },
  {
   "cell_type": "code",
   "execution_count": 4,
   "id": "4c0dcfed",
   "metadata": {},
   "outputs": [
    {
     "name": "stdout",
     "output_type": "stream",
     "text": [
      "List1 multiplied by list2 is:[3, 8, 15]\n"
     ]
    }
   ],
   "source": [
    "# Lists [8] \n",
    "\n",
    "list1 = [1,2,3]\n",
    "list2 = [3,4,5]\n",
    "\n",
    "listbylist = []\n",
    "for i in range(0, len(list1)):\n",
    "    listbylist.append(list1[i] * list2[i])\n",
    "\n",
    "print(\"List1 multiplied by list2 is:\" + str(listbylist))\n"
   ]
  },
  {
   "cell_type": "code",
   "execution_count": 5,
   "id": "fc271948",
   "metadata": {},
   "outputs": [
    {
     "data": {
      "text/plain": [
       "array([ 3,  8, 15])"
      ]
     },
     "execution_count": 5,
     "metadata": {},
     "output_type": "execute_result"
    }
   ],
   "source": [
    "# arrays\n",
    "\n",
    "array1 = np.array([1,2,3])\n",
    "array2 = np.array([3,4,5])\n",
    "\n",
    "array1 * array2"
   ]
  },
  {
   "cell_type": "markdown",
   "id": "af5294fd",
   "metadata": {},
   "source": [
    "These simple examples of code show the power of NumPy and the importance of the use of Arrays. \n",
    "\n",
    "From this viewpoint we can see how NumPy further builds to allow us greater capacity to generate numbers and use those numbers quickly and efficiently in programming, testing and Machine Learning."
   ]
  },
  {
   "cell_type": "markdown",
   "id": "c63a4625",
   "metadata": {},
   "source": [
    "*****\n",
    "\n",
    "### NumPy Random\n",
    "\n",
    "****"
   ]
  },
  {
   "cell_type": "markdown",
   "id": "abd9367f",
   "metadata": {},
   "source": [
    "<div class=\"alert alert-block alert-info\">\n",
    "<b>Code:</b> \n",
    "   \n",
    "    rng = np.random.default_rng()\n",
    "    \n",
    "</div>"
   ]
  },
  {
   "cell_type": "markdown",
   "id": "13e19eef",
   "metadata": {},
   "source": [
    "NumPy provides a built-in function for random number generation – numpy.random [1]\n",
    "\n",
    "This allows for the creation of pseudorandom data, in the forms of arrays, which can then be used in for mathematical problems, program testing, data Analysis etc. [2]\n",
    "\n",
    "The provision of random data by NumPy allows us to learn programming and then importantly to test our programs with random, but also if required, reproducible data, prior to any real world application."
   ]
  },
  {
   "cell_type": "markdown",
   "id": "4a55d8ec",
   "metadata": {},
   "source": [
    "-----\n",
    "\n",
    "<dl>\n",
    "<dt>As outlined, in W3Schools it is important to remember:</dt>\n",
    "\n",
    "<dd>“Random number does NOT mean a different number every time. Random means something that can not be predicted logically.\" </dd>[3]\n",
    "    \n",
    "-----"
   ]
  },
  {
   "cell_type": "markdown",
   "id": "b4a0e5f3",
   "metadata": {},
   "source": [
    "NumPy.random provides pseudorandom numbers for us to use – this means that the numbers are not totally random, infact NumPy.random gives us the ability to choose the kind of random numbers we need.\n",
    "\n",
    "Pseudorandom data is data that is produced by Python, using an algorythim and by our imputs. It is not truly random and should not be treated as such. \n",
    "\n",
    "Numpy.random through the use of simple random data, permutations, and also number distributions allows us to amend and tailor the random data we need for our given purpose.[4]\n",
    "\n",
    "Further we can actually choose the starting place for the random numbers we generate and reproduce the numbers through the use of seeds. [5] This allows for reproducible results for testing. "
   ]
  },
  {
   "cell_type": "code",
   "execution_count": 13,
   "id": "7f54bff6",
   "metadata": {},
   "outputs": [],
   "source": [
    "rng = np.random.default_rng() # import the numpy package - this is the standard import abbreviation"
   ]
  },
  {
   "cell_type": "markdown",
   "id": "07b4687e",
   "metadata": {},
   "source": [
    "~*~*~*~* more needed here\n",
    "\n",
    "need to provide more explainationon the use of the above and it change in the newer docs\n",
    "what does it mean?\n",
    "\n",
    "No more seeds/\n",
    "\n",
    "https://www.youtube.com/watch?v=ryvY3RJucag\n",
    "\n"
   ]
  },
  {
   "cell_type": "markdown",
   "id": "d00746bd",
   "metadata": {},
   "source": [
    "----\n",
    "\n",
    "### Simple Random Data & Permutations\n",
    "\n",
    "----"
   ]
  },
  {
   "cell_type": "markdown",
   "id": "7314e348",
   "metadata": {},
   "source": [
    "When processing data we often want to give NumPy parameters as to what type of data we need, the permutations of this data and even as a further step the distibution of this data.\n",
    "\n",
    "The first functions we can pass through Numpy.random are the following simple random data functions:\n",
    "\n",
    "- integers\n",
    "- random \n",
    "- choice\n",
    "- bytes\n",
    "\n",
    "~*~*~*~* more needed here\n"
   ]
  },
  {
   "cell_type": "markdown",
   "id": "1ca9d6d4-034d-445b-98c9-bfaf08b5b916",
   "metadata": {},
   "source": [
    "#### integers\n",
    "                             \n",
    "This function will output a list of random integers.\n",
    "                             \n",
    "                             rng.integers() \n",
    "\n",
    "This on its own will not work - for this function you are required to set parameters detailing the beginning and end numbers, the amount of numbers, shape of array, or boolean values. [2]"
   ]
  },
  {
   "cell_type": "code",
   "execution_count": 73,
   "id": "ea23622c-a514-4bfb-a911-d833fb0a3f34",
   "metadata": {},
   "outputs": [
    {
     "data": {
      "text/plain": [
       "array([2, 0], dtype=int64)"
      ]
     },
     "execution_count": 73,
     "metadata": {},
     "output_type": "execute_result"
    }
   ],
   "source": [
    "rng.integers(6, size=(2))       # here we set a highest value and the size of the output"
   ]
  },
  {
   "cell_type": "code",
   "execution_count": 74,
   "id": "99b8f4e6",
   "metadata": {},
   "outputs": [
    {
     "data": {
      "text/plain": [
       "array([4, 4], dtype=int64)"
      ]
     },
     "execution_count": 74,
     "metadata": {},
     "output_type": "execute_result"
    }
   ],
   "source": [
    "rng.integers(4,6, size=(2))     # here we have given a lowest value - highest value and then outlined the size of the output                          "
   ]
  },
  {
   "cell_type": "code",
   "execution_count": 75,
   "id": "0372f757-1704-4eb5-bac4-edba16fa6159",
   "metadata": {},
   "outputs": [
    {
     "data": {
      "text/plain": [
       "array([[4, 5, 4, 4],\n",
       "       [4, 4, 4, 5]], dtype=int64)"
      ]
     },
     "execution_count": 75,
     "metadata": {},
     "output_type": "execute_result"
    }
   ],
   "source": [
    "rng.integers(4,6, size=(2,4))  # here by changing the size parameters you can see we now have an array   \n"
   ]
  },
  {
   "cell_type": "code",
   "execution_count": 84,
   "id": "887d856c",
   "metadata": {},
   "outputs": [
    {
     "data": {
      "text/plain": [
       "array([[[4, 4],\n",
       "        [5, 4],\n",
       "        [4, 5],\n",
       "        [5, 5],\n",
       "        [5, 4],\n",
       "        [4, 5]],\n",
       "\n",
       "       [[4, 4],\n",
       "        [4, 4],\n",
       "        [5, 4],\n",
       "        [5, 5],\n",
       "        [5, 4],\n",
       "        [4, 5]]], dtype=int64)"
      ]
     },
     "execution_count": 84,
     "metadata": {},
     "output_type": "execute_result"
    }
   ],
   "source": [
    "rng.integers(4,6, size=(2,6,2))  # and very quickly we can create a multidimentional array\n"
   ]
  },
  {
   "cell_type": "code",
   "execution_count": 85,
   "id": "22b83272",
   "metadata": {},
   "outputs": [
    {
     "data": {
      "text/plain": [
       "array([[5, 5, 4, 5],\n",
       "       [4, 4, 5, 5]], dtype=int64)"
      ]
     },
     "execution_count": 85,
     "metadata": {},
     "output_type": "execute_result"
    }
   ],
   "source": [
    "rng.integers(4,6, size=(2,4)) "
   ]
  },
  {
   "cell_type": "code",
   "execution_count": null,
   "id": "4fd917dc",
   "metadata": {},
   "outputs": [],
   "source": []
  },
  {
   "cell_type": "code",
   "execution_count": null,
   "id": "7acedec2-c7a1-4c51-9cd6-316590810ede",
   "metadata": {},
   "outputs": [],
   "source": []
  },
  {
   "cell_type": "code",
   "execution_count": null,
   "id": "fd18c22d-3425-4b73-b3ed-084800b3ab04",
   "metadata": {},
   "outputs": [],
   "source": []
  },
  {
   "cell_type": "code",
   "execution_count": null,
   "id": "0acb39f4-0535-4a59-a21f-5fd45fca01f4",
   "metadata": {},
   "outputs": [],
   "source": []
  },
  {
   "cell_type": "code",
   "execution_count": null,
   "id": "beab4e24-3c2b-4309-80e4-9ac000b37b1d",
   "metadata": {},
   "outputs": [],
   "source": []
  },
  {
   "cell_type": "markdown",
   "id": "c3dbc1dc",
   "metadata": {},
   "source": [
    "### References\n",
    "\n",
    "#### NumPy\n",
    "[1] Youtube, Amulya's Academy, Introduction to Numpy Library (13th Jul, 2019) https://www.youtube.com/watch?v=hSquw6JGsLM&list=PLzgPDYo_3xunqaoZnnTaoka2R6psn5u2T&index=194\n",
    "\n",
    "[2] Youtube, I am biomed, What is Numpy? Python for Data Science Tutorial (16th April, 2016) https://www.youtube.com/watch?v=pP5dQG0foTs\n",
    "\n",
    "[3] Medium, Farhad Malik, Why should we use NumpPy? (31st March, 2019) https://medium.com/fintechexplained/why-should-we-use-numpy-c14a4fb03ee9\n",
    "\n",
    "[4] NumPy.org, Installing Numpy, (No Date)https://numpy.org/install/\n",
    "\n",
    "[5] W3 Schools, Numpy Getting Started (1999 - 2021) https://www.w3schools.com/python/numpy/numpy_getting_started.asp\n",
    "\n",
    "[6] Ask Python, How to append an Array in Python? (No Date) https://www.askpython.com/python/array/append-an-array-in-python\n",
    "\n",
    "[7] Kite, How to multiply two lits in Python, (no date) https://www.kite.com/python/answers/how-to-multiply-two-lists-in-python\n",
    "\n",
    "[8] Geeks for Geeks, Python - Multiply Two List (27th Dec, 2019) https://www.geeksforgeeks.org/python-multiply-two-list/\n",
    "\n",
    "#### NumPy Random\n",
    "[1] Great Learning, What is NumPy in Python, (28th May, 2021) https://www.mygreatlearning.com/blog/python-numpy-tutorial/ \n",
    "\n",
    "[2] Angela C, Explain the overall purpose of the package numpy.random (2021)\n",
    " https://www.angela1c.com/projects/numpy-random-files/task1/\n",
    " \n",
    "[3] W3Schools, Random Numbers in NumPy, (1999 – 2021 ) https://www.w3schools.com/python/numpy/numpy_random.asp \n",
    "\n",
    "[4] NumPy, Random Generator, (22nd June, 2021) https://numpy.org/doc/stable/reference/random/generator.html#numpy.random.Generator \n",
    "\n",
    "[5] Towards Data Science, What does Random.seed do in NumPy, (27th Sept, 2021) https://towardsdatascience.com/random-seed-numpy-786cf7876a5f \n",
    "\n",
    "\n",
    "#### Simple Random Data & Permutations\n",
    "\n",
    "[1] NumPy, Random Generator (22nd June, 2021) https://numpy.org/doc/stable/reference/random/generator.html#numpy.random.Generator\n",
    "\n",
    "[2] Numpy, numpy.random.generator.integers (22nd June, 2021) https://numpy.org/doc/stable/reference/random/generated/numpy.random.Generator.integers.html#numpy.random.Generator.integers\n",
    "\n",
    "[3] Machine Learning Mastery, How to generate Random Numbers in Python (4th Sept, 2020)https://machinelearningmastery.com/how-to-generate-random-numbers-in-python/\n",
    "\n",
    "[4] \n"
   ]
  },
  {
   "cell_type": "markdown",
   "id": "617fa5e0",
   "metadata": {},
   "source": [
    "\n"
   ]
  }
 ],
 "metadata": {
  "kernelspec": {
   "display_name": "Python 3",
   "language": "python",
   "name": "python3"
  },
  "language_info": {
   "codemirror_mode": {
    "name": "ipython",
    "version": 3
   },
   "file_extension": ".py",
   "mimetype": "text/x-python",
   "name": "python",
   "nbconvert_exporter": "python",
   "pygments_lexer": "ipython3",
   "version": "3.8.8"
  }
 },
 "nbformat": 4,
 "nbformat_minor": 5
}
